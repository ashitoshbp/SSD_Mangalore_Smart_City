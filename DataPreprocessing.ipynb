{
  "nbformat": 4,
  "nbformat_minor": 0,
  "metadata": {
    "colab": {
      "provenance": []
    },
    "kernelspec": {
      "name": "python3",
      "display_name": "Python 3"
    },
    "language_info": {
      "name": "python"
    }
  },
  "cells": [
    {
      "cell_type": "code",
      "execution_count": 8,
      "metadata": {
        "id": "BLCHvgY-1msp"
      },
      "outputs": [],
      "source": [
        "import pandas as pd\n",
        "import numpy as np\n",
        "import matplotlib.pyplot as plt\n",
        "import seaborn as sns\n",
        "import missingno as msno\n",
        "import warnings\n",
        "\n",
        "\n",
        "\n",
        "# Read Excel file\n",
        "import pandas as pd\n",
        "\n",
        "df = pd.read_excel(\"/content/dataset.xlsx\")  # Replace with actual uploaded file name\n"
      ]
    },
    {
      "cell_type": "code",
      "source": [
        "print(\"Shape:\", df.shape)\n",
        "print(\"\\nColumns:\\n\", df.columns)\n",
        "print(\"\\nInfo:\")\n",
        "df.info()\n",
        "print(\"\\nMissing values:\\n\", df.isnull().sum())\n",
        "print(\"\\nDuplicates:\", df.duplicated().sum())\n"
      ],
      "metadata": {
        "colab": {
          "base_uri": "https://localhost:8080/"
        },
        "id": "Sz3bBrhJ2MDB",
        "outputId": "96cd7f9a-bc1f-46c9-f18d-8165c79c10d7"
      },
      "execution_count": 9,
      "outputs": [
        {
          "output_type": "stream",
          "name": "stdout",
          "text": [
            "Shape: (1118, 17)\n",
            "\n",
            "Columns:\n",
            " Index(['Sl. No.', 'Incident Type', 'Location', 'Taluk',\n",
            "       'Information Received From', 'Received Date/Time',\n",
            "       'Incident Reported at', 'Action Taken By', 'Action Date/Time',\n",
            "       'Action Remarks', 'Time taken to take Action', 'Closed By Officer',\n",
            "       'Closed At', 'Closed Remarks', 'Time taken to Close', 'Photo Before',\n",
            "       'Photo After'],\n",
            "      dtype='object')\n",
            "\n",
            "Info:\n",
            "<class 'pandas.core.frame.DataFrame'>\n",
            "RangeIndex: 1118 entries, 0 to 1117\n",
            "Data columns (total 17 columns):\n",
            " #   Column                     Non-Null Count  Dtype  \n",
            "---  ------                     --------------  -----  \n",
            " 0   Sl. No.                    1118 non-null   int64  \n",
            " 1   Incident Type              1118 non-null   object \n",
            " 2   Location                   1112 non-null   object \n",
            " 3   Taluk                      1118 non-null   object \n",
            " 4   Information Received From  1118 non-null   object \n",
            " 5   Received Date/Time         1118 non-null   object \n",
            " 6   Incident Reported at       1118 non-null   object \n",
            " 7   Action Taken By            791 non-null    object \n",
            " 8   Action Date/Time           813 non-null    object \n",
            " 9   Action Remarks             666 non-null    object \n",
            " 10  Time taken to take Action  813 non-null    object \n",
            " 11  Closed By Officer          455 non-null    object \n",
            " 12  Closed At                  493 non-null    object \n",
            " 13  Closed Remarks             476 non-null    object \n",
            " 14  Time taken to Close        493 non-null    object \n",
            " 15  Photo Before               0 non-null      float64\n",
            " 16  Photo After                0 non-null      float64\n",
            "dtypes: float64(2), int64(1), object(14)\n",
            "memory usage: 148.6+ KB\n",
            "\n",
            "Missing values:\n",
            " Sl. No.                         0\n",
            "Incident Type                   0\n",
            "Location                        6\n",
            "Taluk                           0\n",
            "Information Received From       0\n",
            "Received Date/Time              0\n",
            "Incident Reported at            0\n",
            "Action Taken By               327\n",
            "Action Date/Time              305\n",
            "Action Remarks                452\n",
            "Time taken to take Action     305\n",
            "Closed By Officer             663\n",
            "Closed At                     625\n",
            "Closed Remarks                642\n",
            "Time taken to Close           625\n",
            "Photo Before                 1118\n",
            "Photo After                  1118\n",
            "dtype: int64\n",
            "\n",
            "Duplicates: 0\n"
          ]
        }
      ]
    },
    {
      "cell_type": "code",
      "source": [
        "import seaborn as sns\n",
        "import matplotlib.pyplot as plt\n",
        "\n",
        "plt.figure(figsize=(10, 6))\n",
        "sns.heatmap(df.isnull(), cbar=False, cmap='viridis')\n",
        "plt.title(\"Missing Values Heatmap\")\n",
        "plt.show()"
      ],
      "metadata": {
        "colab": {
          "base_uri": "https://localhost:8080/",
          "height": 717
        },
        "id": "wvczuiVX265g",
        "outputId": "a3182aed-7976-408e-810a-d83428c0ec36"
      },
      "execution_count": 10,
      "outputs": [
        {
          "output_type": "display_data",
          "data": {
            "text/plain": [
              "<Figure size 1000x600 with 1 Axes>"
            ],
            "image/png": "[encoded data removed]"
          },
          "metadata": {}
        }
      ]
    },
    {
      "cell_type": "code",
      "source": [
        "def inspect_columns(column_name):\n",
        "    col = column_name  # Replace with actual column\n",
        "\n",
        "    print(f\"\\nColumn: {col}\")\n",
        "    print(\"-\" * 40)\n",
        "\n",
        "    # 1. Basic info\n",
        "    print(\"Unique values:\", df[col].nunique())\n",
        "    print(\"Value counts:\\n\", df[col].value_counts(dropna=False))\n",
        "    print(\"\\nData type:\", df[col].dtype)\n",
        "    print(\"\\nMissing values:\", df[col].isnull().sum())\n",
        "\n",
        "    # 2. For object columns: check string length\n",
        "    if df[col].dtype == 'object':\n",
        "        print(\"\\nMax length:\", df[col].astype(str).str.len().max())\n",
        "        print(\"Sample values:\\n\", df[col].dropna().unique()[:5])\n",
        "\n",
        "    # 3. For numeric columns: describe\n",
        "    if pd.api.types.is_numeric_dtype(df[col]):\n",
        "        print(\"\\nDescribe:\\n\", df[col].describe())\n",
        "\n",
        "    # 4. For datetime columns: range\n",
        "    if pd.api.types.is_datetime64_any_dtype(df[col]):\n",
        "        print(\"\\nDate range:\", df[col].min(), \"to\", df[col].max())\n"
      ],
      "metadata": {
        "id": "6zqCfbzq3b_M"
      },
      "execution_count": 16,
      "outputs": []
    },
    {
      "cell_type": "code",
      "source": [
        "inspect_columns(\"Incident Type\")"
      ],
      "metadata": {
        "colab": {
          "base_uri": "https://localhost:8080/"
        },
        "id": "p6Do6fmh31o2",
        "outputId": "da5de53f-9d8d-438f-8ee3-873be91408a7"
      },
      "execution_count": 17,
      "outputs": [
        {
          "output_type": "stream",
          "name": "stdout",
          "text": [
            "\n",
            "Column: Incident Type\n",
            "----------------------------------------\n",
            "Unique values: 14\n",
            "Value counts:\n",
            " Incident Type\n",
            "Landslide                     559\n",
            "Tree fallen                   134\n",
            "Others                         72\n",
            "Building collapse              67\n",
            "Mud slip                       60\n",
            "Water logging                  58\n",
            "Flood                          50\n",
            "Bridge collapse                36\n",
            "Road cut off                   34\n",
            "Soil Erosion                   22\n",
            "Electrical Poles fall down     20\n",
            "Sea Erosion                     3\n",
            "Road Accident                   2\n",
            "Snake bite                      1\n",
            "Name: count, dtype: int64\n",
            "\n",
            "Data type: object\n",
            "\n",
            "Missing values: 0\n",
            "\n",
            "Max length: 26\n",
            "Sample values:\n",
            " ['Others' 'Landslide' 'Tree fallen' 'Flood' 'Bridge collapse']\n"
          ]
        }
      ]
    },
    {
      "cell_type": "code",
      "source": [
        "import seaborn as sns\n",
        "import matplotlib.pyplot as plt\n",
        "\n",
        "sns.countplot(y=df['Incident Type'], order=df['Incident Type'].value_counts().index)\n",
        "plt.title(\"Incident Type Distribution\")\n",
        "plt.show()"
      ],
      "metadata": {
        "colab": {
          "base_uri": "https://localhost:8080/",
          "height": 472
        },
        "id": "7QA9m2j84D38",
        "outputId": "b116da4a-9c95-4888-d15e-47b88b5b9fb8"
      },
      "execution_count": 20,
      "outputs": [
        {
          "output_type": "display_data",
          "data": {
            "text/plain": [
              "<Figure size 640x480 with 1 Axes>"
            ],
            "image/png": "[encoded data removed]"
          },
          "metadata": {}
        }
      ]
    },
    {
      "cell_type": "markdown",
      "source": [
        "### HANDLING LOCATION COLUMN\n"
      ],
      "metadata": {
        "id": "BXyo427DI_yd"
      }
    },
    {
      "cell_type": "code",
      "source": [
        "inspect_columns(\"Location\")"
      ],
      "metadata": {
        "colab": {
          "base_uri": "https://localhost:8080/"
        },
        "id": "svk5awmP4bNI",
        "outputId": "c459e750-f3ac-49c9-da7c-de3da1b62bf8"
      },
      "execution_count": 21,
      "outputs": [
        {
          "output_type": "stream",
          "name": "stdout",
          "text": [
            "\n",
            "Column: Location\n",
            "----------------------------------------\n",
            "Unique values: 905\n",
            "Value counts:\n",
            " Location\n",
            "12.692778 75.377586            9\n",
            "Chembugudde                    8\n",
            "Shirlalu                       7\n",
            "Halekote                       7\n",
            "BantwalMooda                   6\n",
            "                              ..\n",
            "padubailu sulkerimogru         1\n",
            "okkala sulkerimogru            1\n",
            "Mavinaktte Marodi              1\n",
            "Keelampadi bettampady grama    1\n",
            "Padnooru                       1\n",
            "Name: count, Length: 906, dtype: int64\n",
            "\n",
            "Data type: object\n",
            "\n",
            "Missing values: 6\n",
            "\n",
            "Max length: 126\n",
            "Sample values:\n",
            " ['ಸರಕಾರಿ ಹಿರಿಯ ಪ್ರಾಥಮಿಕ ಶಾಲೆ ಬೆಳರಿಂಗೆ'\n",
            " 'ಕಿನ್ಯಾ ಗ್ರಾಮದ ಮಜಲು ಎಂಬಲ್ಲಿ ಕಿಂಡಿ ಅಣೆಕಟ್ಟಿನ ಬಳಿ ಹೂಳು' 'Meenadi'\n",
            " 'Near Kinya Grama Panchayath office' 'Naravi to Panal zp road']\n"
          ]
        }
      ]
    },
    {
      "cell_type": "code",
      "source": [
        "!pip install deep-translator langdetect\n"
      ],
      "metadata": {
        "colab": {
          "base_uri": "https://localhost:8080/"
        },
        "id": "FHrW7ekM5WyR",
        "outputId": "1a120d58-7527-4aea-9bfd-b6b302b4ba57"
      },
      "execution_count": 23,
      "outputs": [
        {
          "output_type": "stream",
          "name": "stdout",
          "text": [
            "Requirement already satisfied: deep-translator in /usr/local/lib/python3.11/dist-packages (1.11.4)\n",
            "Collecting langdetect\n",
            "  Downloading langdetect-1.0.9.tar.gz (981 kB)\n",
            "\u001b[2K     \u001b[90m━━━━━━━━━━━━━━━━━━━━━━━━━━━━━━━━━━━━━━\u001b[0m \u001b[32m981.5/981.5 kB\u001b[0m \u001b[31m11.1 MB/s\u001b[0m eta \u001b[36m0:00:00\u001b[0m\n",
            "\u001b[?25h  Preparing metadata (setup.py) ... \u001b[?25l\u001b[?25hdone\n",
            "Requirement already satisfied: beautifulsoup4<5.0.0,>=4.9.1 in /usr/local/lib/python3.11/dist-packages (from deep-translator) (4.13.4)\n",
            "Requirement already satisfied: requests<3.0.0,>=2.23.0 in /usr/local/lib/python3.11/dist-packages (from deep-translator) (2.32.3)\n",
            "Requirement already satisfied: six in /usr/local/lib/python3.11/dist-packages (from langdetect) (1.17.0)\n",
            "Requirement already satisfied: soupsieve>1.2 in /usr/local/lib/python3.11/dist-packages (from beautifulsoup4<5.0.0,>=4.9.1->deep-translator) (2.7)\n",
            "Requirement already satisfied: typing-extensions>=4.0.0 in /usr/local/lib/python3.11/dist-packages (from beautifulsoup4<5.0.0,>=4.9.1->deep-translator) (4.13.2)\n",
            "Requirement already satisfied: charset-normalizer<4,>=2 in /usr/local/lib/python3.11/dist-packages (from requests<3.0.0,>=2.23.0->deep-translator) (3.4.1)\n",
            "Requirement already satisfied: idna<4,>=2.5 in /usr/local/lib/python3.11/dist-packages (from requests<3.0.0,>=2.23.0->deep-translator) (3.10)\n",
            "Requirement already satisfied: urllib3<3,>=1.21.1 in /usr/local/lib/python3.11/dist-packages (from requests<3.0.0,>=2.23.0->deep-translator) (2.4.0)\n",
            "Requirement already satisfied: certifi>=2017.4.17 in /usr/local/lib/python3.11/dist-packages (from requests<3.0.0,>=2.23.0->deep-translator) (2025.4.26)\n",
            "Building wheels for collected packages: langdetect\n",
            "  Building wheel for langdetect (setup.py) ... \u001b[?25l\u001b[?25hdone\n",
            "  Created wheel for langdetect: filename=langdetect-1.0.9-py3-none-any.whl size=993223 sha256=28553272972e79ce4917b09255e60fdfa2fa795cae09e442d7392fb84703e17a\n",
            "  Stored in directory: /root/.cache/pip/wheels/0a/f2/b2/e5ca405801e05eb7c8ed5b3b4bcf1fcabcd6272c167640072e\n",
            "Successfully built langdetect\n",
            "Installing collected packages: langdetect\n",
            "Successfully installed langdetect-1.0.9\n"
          ]
        }
      ]
    },
    {
      "cell_type": "code",
      "source": [
        "!pip install deep-translator\n"
      ],
      "metadata": {
        "colab": {
          "base_uri": "https://localhost:8080/"
        },
        "id": "XiS6Lkp842nK",
        "outputId": "32b1594c-3d4f-4b10-ec6c-84593a9fce80"
      },
      "execution_count": 22,
      "outputs": [
        {
          "output_type": "stream",
          "name": "stdout",
          "text": [
            "Collecting deep-translator\n",
            "  Downloading deep_translator-1.11.4-py3-none-any.whl.metadata (30 kB)\n",
            "Requirement already satisfied: beautifulsoup4<5.0.0,>=4.9.1 in /usr/local/lib/python3.11/dist-packages (from deep-translator) (4.13.4)\n",
            "Requirement already satisfied: requests<3.0.0,>=2.23.0 in /usr/local/lib/python3.11/dist-packages (from deep-translator) (2.32.3)\n",
            "Requirement already satisfied: soupsieve>1.2 in /usr/local/lib/python3.11/dist-packages (from beautifulsoup4<5.0.0,>=4.9.1->deep-translator) (2.7)\n",
            "Requirement already satisfied: typing-extensions>=4.0.0 in /usr/local/lib/python3.11/dist-packages (from beautifulsoup4<5.0.0,>=4.9.1->deep-translator) (4.13.2)\n",
            "Requirement already satisfied: charset-normalizer<4,>=2 in /usr/local/lib/python3.11/dist-packages (from requests<3.0.0,>=2.23.0->deep-translator) (3.4.1)\n",
            "Requirement already satisfied: idna<4,>=2.5 in /usr/local/lib/python3.11/dist-packages (from requests<3.0.0,>=2.23.0->deep-translator) (3.10)\n",
            "Requirement already satisfied: urllib3<3,>=1.21.1 in /usr/local/lib/python3.11/dist-packages (from requests<3.0.0,>=2.23.0->deep-translator) (2.4.0)\n",
            "Requirement already satisfied: certifi>=2017.4.17 in /usr/local/lib/python3.11/dist-packages (from requests<3.0.0,>=2.23.0->deep-translator) (2025.4.26)\n",
            "Downloading deep_translator-1.11.4-py3-none-any.whl (42 kB)\n",
            "\u001b[?25l   \u001b[90m━━━━━━━━━━━━━━━━━━━━━━━━━━━━━━━━━━━━━━━━\u001b[0m \u001b[32m0.0/42.3 kB\u001b[0m \u001b[31m?\u001b[0m eta \u001b[36m-:--:--\u001b[0m\r\u001b[2K   \u001b[90m━━━━━━━━━━━━━━━━━━━━━━━━━━━━━━━━━━━━━━━━\u001b[0m \u001b[32m42.3/42.3 kB\u001b[0m \u001b[31m1.5 MB/s\u001b[0m eta \u001b[36m0:00:00\u001b[0m\n",
            "\u001b[?25hInstalling collected packages: deep-translator\n",
            "Successfully installed deep-translator-1.11.4\n"
          ]
        }
      ]
    },
    {
      "cell_type": "code",
      "source": [
        "from deep_translator import GoogleTranslator\n",
        "from langdetect import detect, LangDetectException\n",
        "import pandas as pd\n",
        "\n",
        "def translate_kannada_column_inplace(df, column_name, src='kn', target='en'):\n",
        "    \"\"\"\n",
        "    Translates Kannada or non-ASCII text to English in-place for a specified column.\n",
        "    Displays original vs translated examples where a change occurred.\n",
        "    \"\"\"\n",
        "    original_values = df[column_name].copy()\n",
        "\n",
        "    def is_ascii(text):\n",
        "        return all(ord(char) < 128 for char in str(text))\n",
        "\n",
        "    def safe_translate(text):\n",
        "        if pd.isna(text) or str(text).strip() == '':\n",
        "            return text  # Leave empty/NaN as-is\n",
        "        try:\n",
        "            lang = detect(text)\n",
        "            if lang == 'kn' or not is_ascii(text):  # Translate Kannada or non-ASCII\n",
        "                return GoogleTranslator(source=src, target=target).translate(text)\n",
        "            else:\n",
        "                return text  # Leave plain English untouched\n",
        "        except LangDetectException:\n",
        "            return text  # Return original if detection fails\n",
        "\n",
        "    df[column_name] = df[column_name].apply(safe_translate)\n",
        "\n",
        "    # Find changed entries\n",
        "    changes = df[original_values != df[column_name]]\n",
        "    changed_count = len(changes)\n",
        "\n",
        "    print(f\"\\n✅ Total records changed in column '{column_name}': {changed_count}\")\n",
        "    print(\"\\n🔄 Sample of changed records:\")\n",
        "    print(pd.DataFrame({\n",
        "        'Original': original_values[changes.index],\n",
        "        'Translated': df.loc[changes.index, column_name]\n",
        "    }).head())\n",
        "\n",
        "    return df\n"
      ],
      "metadata": {
        "id": "bDD6Xjdh5LT6"
      },
      "execution_count": 46,
      "outputs": []
    },
    {
      "cell_type": "code",
      "source": [
        "df = translate_kannada_column_inplace(df, 'Location')\n"
      ],
      "metadata": {
        "colab": {
          "base_uri": "https://localhost:8080/"
        },
        "id": "tTNU1Qzx5apL",
        "outputId": "662b5d97-a040-46c5-c5d3-b6df66fe9817"
      },
      "execution_count": 47,
      "outputs": [
        {
          "output_type": "stream",
          "name": "stdout",
          "text": [
            "\n",
            "✅ Total records changed in column 'Location': 15\n",
            "\n",
            "🔄 Sample of changed records:\n",
            "                Original             Translated\n",
            "18                   NaN                    NaN\n",
            "43                   NaN                    NaN\n",
            "91                   NaN                    NaN\n",
            "162                  NaN                    NaN\n",
            "263  ತಾರಬರಿ kavalapaduru  Tarubari kavalapaduru\n"
          ]
        }
      ]
    },
    {
      "cell_type": "code",
      "source": [
        "\n",
        "import re\n",
        "import pandas as pd\n",
        "\n",
        "def is_non_latin(text):\n",
        "    if pd.isna(text) or str(text).strip() == '':\n",
        "        return True  # Empty or NaN\n",
        "    return bool(re.search(r'[^\\u0000-\\u007F]', str(text)))  # Non-ASCII (non-Latin) characters\n",
        "\n",
        "def check_non_latin_or_empty_and_show(df, column_name):\n",
        "    \"\"\"\n",
        "    Checks how many non-Latin (e.g., Kannada) or empty values are in the given column.\n",
        "    Displays the rows with non-Latin or empty values.\n",
        "    \"\"\"\n",
        "    non_latin_or_empty = df[df[column_name].apply(is_non_latin)]\n",
        "\n",
        "    print(f\"Non-Latin or empty values in '{column_name}': {len(non_latin_or_empty)}\")\n",
        "    print(\"\\nSample of non-Latin or empty values:\")\n",
        "    print(non_latin_or_empty[[column_name]].drop_duplicates().head(100))\n",
        "\n",
        "    return len(non_latin_or_empty), non_latin_or_empty\n"
      ],
      "metadata": {
        "id": "nzt_OWce6jr9"
      },
      "execution_count": 48,
      "outputs": []
    },
    {
      "cell_type": "code",
      "source": [
        "non_latin_count, non_latin_records = check_non_latin_or_empty_and_show(df, 'Location')\n"
      ],
      "metadata": {
        "colab": {
          "base_uri": "https://localhost:8080/"
        },
        "id": "acVBMymU5cgU",
        "outputId": "170ed66a-5830-444d-96c2-a5f1b36bc586"
      },
      "execution_count": 49,
      "outputs": [
        {
          "output_type": "stream",
          "name": "stdout",
          "text": [
            "Non-Latin or empty values in 'Location': 9\n",
            "\n",
            "Sample of non-Latin or empty values:\n",
            "                                           Location\n",
            "18                                              NaN\n",
            "669               Pattla Gandi Near Thanthrís House\n",
            "953  Kukkaj̧e near Siddique House and Masjid Masjid\n",
            "994                       Patla Near Thanthís House\n"
          ]
        }
      ]
    },
    {
      "cell_type": "code",
      "source": [
        "print(df.loc[263, 'Location'])\n"
      ],
      "metadata": {
        "colab": {
          "base_uri": "https://localhost:8080/"
        },
        "id": "z2yqF9GD6o_I",
        "outputId": "e7480e2b-c2b8-43b1-e2b1-7f9ab6dc2fb9"
      },
      "execution_count": 50,
      "outputs": [
        {
          "output_type": "stream",
          "name": "stdout",
          "text": [
            "Tarubari kavalapaduru\n"
          ]
        }
      ]
    },
    {
      "cell_type": "code",
      "source": [
        "#filling missing values in location\n",
        "\n",
        "def fill_missing_location(df):\n",
        "    missing_before = df['Location'].isna().sum()\n",
        "\n",
        "    # Apply row-wise fill logic\n",
        "    df['Location'] = df.apply(\n",
        "        lambda row: f\"Unknown Location in {row['Taluk']}\" if pd.isna(row['Location']) else row['Location'],\n",
        "        axis=1\n",
        "    )\n",
        "\n",
        "    missing_after = df['Location'].isna().sum()\n",
        "    filled_count = missing_before - missing_after\n",
        "\n",
        "    print(f\"\\n✅ Missing 'Location' values filled: {filled_count}\")\n",
        "    return df\n"
      ],
      "metadata": {
        "id": "PuABsX2dHxgk"
      },
      "execution_count": 52,
      "outputs": []
    },
    {
      "cell_type": "code",
      "source": [
        "# Preview the changes\n",
        "original_location_nulls = df[df['Location'].isna()]\n",
        "df = fill_missing_location(df)\n",
        "print(\"\\nSample of newly filled locations:\")\n",
        "print(df.loc[original_location_nulls.index, ['Taluk', 'Location']])\n"
      ],
      "metadata": {
        "colab": {
          "base_uri": "https://localhost:8080/"
        },
        "id": "33Y1Ja_-IyQb",
        "outputId": "86034082-8966-4f57-8514-301a424e8684"
      },
      "execution_count": 53,
      "outputs": [
        {
          "output_type": "stream",
          "name": "stdout",
          "text": [
            "\n",
            "✅ Missing 'Location' values filled: 6\n",
            "\n",
            "Sample of newly filled locations:\n",
            "           Taluk                         Location\n",
            "18        Kadaba       Unknown Location in Kadaba\n",
            "43   Belthangady  Unknown Location in Belthangady\n",
            "91        Kadaba       Unknown Location in Kadaba\n",
            "162  Belthangady  Unknown Location in Belthangady\n",
            "643  Belthangady  Unknown Location in Belthangady\n",
            "644  Belthangady  Unknown Location in Belthangady\n"
          ]
        }
      ]
    },
    {
      "cell_type": "code",
      "source": [
        "inspect_columns(\"Location\")\n"
      ],
      "metadata": {
        "colab": {
          "base_uri": "https://localhost:8080/"
        },
        "id": "dcZjrPP8I2Ib",
        "outputId": "6476e2e3-727c-404b-9e32-23c9889dd96a"
      },
      "execution_count": 54,
      "outputs": [
        {
          "output_type": "stream",
          "name": "stdout",
          "text": [
            "\n",
            "Column: Location\n",
            "----------------------------------------\n",
            "Unique values: 906\n",
            "Value counts:\n",
            " Location\n",
            "12.692778 75.377586            9\n",
            "Chembugudde                    8\n",
            "Halekote                       7\n",
            "Shirlalu                       7\n",
            "BantwalMooda                   6\n",
            "                              ..\n",
            "padubailu sulkerimogru         1\n",
            "okkala sulkerimogru            1\n",
            "Mavinaktte Marodi              1\n",
            "Keelampadi bettampady grama    1\n",
            "Padnooru                       1\n",
            "Name: count, Length: 906, dtype: int64\n",
            "\n",
            "Data type: object\n",
            "\n",
            "Missing values: 0\n",
            "\n",
            "Max length: 120\n",
            "Sample values:\n",
            " ['Government Senior Primary School Beleringe'\n",
            " 'Kindi Dam in Majalu, Kinya village' 'Meenadi'\n",
            " 'Near Kinya Grama Panchayath office' 'Naravi to Panal zp road']\n"
          ]
        }
      ]
    },
    {
      "cell_type": "code",
      "source": [
        "inspect_columns(\"Taluk\")"
      ],
      "metadata": {
        "colab": {
          "base_uri": "https://localhost:8080/"
        },
        "id": "pE7brqGAI7tX",
        "outputId": "d86576f3-2f4a-4aa1-8f34-f5d011da2ef7"
      },
      "execution_count": 55,
      "outputs": [
        {
          "output_type": "stream",
          "name": "stdout",
          "text": [
            "\n",
            "Column: Taluk\n",
            "----------------------------------------\n",
            "Unique values: 10\n",
            "Value counts:\n",
            " Taluk\n",
            "Ullala                        320\n",
            "Belthangady                   274\n",
            "Buntwal                       169\n",
            "Sullia                        111\n",
            "Puttur                         82\n",
            "Kadaba                         81\n",
            "Mangaluru                      25\n",
            "Mulki                          21\n",
            "Mangaluru City Corporation     21\n",
            "Mudabidri                      14\n",
            "Name: count, dtype: int64\n",
            "\n",
            "Data type: object\n",
            "\n",
            "Missing values: 0\n",
            "\n",
            "Max length: 26\n",
            "Sample values:\n",
            " ['Ullala' 'Belthangady' 'Kadaba' 'Sullia' 'Buntwal']\n"
          ]
        }
      ]
    },
    {
      "cell_type": "code",
      "source": [
        "import seaborn as sns\n",
        "import matplotlib.pyplot as plt\n",
        "\n",
        "sns.countplot(y=df['Taluk'], order=df['Taluk'].value_counts().index)\n",
        "plt.title(\"Incident Type Distribution\")\n",
        "plt.show()"
      ],
      "metadata": {
        "colab": {
          "base_uri": "https://localhost:8080/",
          "height": 472
        },
        "id": "scfyIK0aJMLe",
        "outputId": "ff10e6db-0113-4e40-90c0-e98c67296d16"
      },
      "execution_count": 57,
      "outputs": [
        {
          "output_type": "display_data",
          "data": {
            "text/plain": [
              "<Figure size 640x480 with 1 Axes>"
            ],
            "image/png": "[encoded data removed]"
          },
          "metadata": {}
        }
      ]
    },
    {
      "cell_type": "markdown",
      "source": [
        "### Information Received Columns"
      ],
      "metadata": {
        "id": "ETYhIG44LIgE"
      }
    },
    {
      "cell_type": "code",
      "source": [
        "inspect_columns('Information Received From')"
      ],
      "metadata": {
        "colab": {
          "base_uri": "https://localhost:8080/"
        },
        "id": "LWvxjV90JeuF",
        "outputId": "55de81fc-f0e4-4ba0-f558-a7b342981bb9"
      },
      "execution_count": 59,
      "outputs": [
        {
          "output_type": "stream",
          "name": "stdout",
          "text": [
            "\n",
            "Column: Information Received From\n",
            "----------------------------------------\n",
            "Unique values: 727\n",
            "Value counts:\n",
            " Information Received From\n",
            "Pdo (9480862248)                           43\n",
            "Secretary  (9480862361)                    16\n",
            "GP President (8722877411)                  16\n",
            "PUBLIC (9482034605)                        12\n",
            "PDO Gp Mithabagilu (9902194520)            10\n",
            "                                           ..\n",
            "Rain (8217882424)                           1\n",
            "ವಾರ್ಡು ಸದಸ್ಯರು (9686363278)                 1\n",
            "ವಾರ್ಡು ಸದಸ್ಯರು (9686263278)                 1\n",
            "public (9845256423)                         1\n",
            "Grama panchayat bettampadi (9481243626)     1\n",
            "Name: count, Length: 727, dtype: int64\n",
            "\n",
            "Data type: object\n",
            "\n",
            "Missing values: 0\n",
            "\n",
            "Max length: 114\n",
            "Sample values:\n",
            " ['Pdo (9480862507)' 'Member (9448152551)' 'PDO (9480862507)'\n",
            " 'PDO (9480862231)' 'Pdo aladangady  (9480862200)']\n"
          ]
        }
      ]
    },
    {
      "cell_type": "code",
      "source": [
        "import re\n",
        "from deep_translator import GoogleTranslator\n",
        "from langdetect import detect, LangDetectException\n",
        "\n",
        "def clean_info_received_column(df, column='Information Received From'):\n",
        "    original_col = df[column].copy()\n",
        "\n",
        "    def extract_info(value):\n",
        "        if pd.isna(value) or str(value).strip() == '':\n",
        "            return ('Unknown', None)\n",
        "\n",
        "        text = str(value).strip()\n",
        "\n",
        "\n",
        "        # Extract phone number if available\n",
        "        phone_match = re.search(r'\\(?(\\d{10})\\)?', text)\n",
        "        phone = phone_match.group(1) if phone_match else None\n",
        "\n",
        "        # Remove phone number from text\n",
        "        name = re.sub(r'\\(?\\d{10}\\)?', '', text).strip()\n",
        "\n",
        "        if not name:\n",
        "            name = 'Unknown'\n",
        "\n",
        "        # Normalize casing\n",
        "        name = name.upper()\n",
        "\n",
        "        return (name, phone)\n",
        "\n",
        "    # Apply to each row\n",
        "    df[['Info_Source', 'Info_Phone']] = df[column].apply(lambda x: pd.Series(extract_info(x)))\n",
        "\n",
        "    print(\"\\n✅ Cleaned 'Information Received From' into 'Info_Source' and 'Info_Phone'\")\n",
        "    print(df[['Information Received From', 'Info_Source', 'Info_Phone']].head(10))\n",
        "\n",
        "    return df\n"
      ],
      "metadata": {
        "id": "U4zab4llJuAr"
      },
      "execution_count": 60,
      "outputs": []
    },
    {
      "cell_type": "code",
      "source": [
        "clean_info_received_column(df)"
      ],
      "metadata": {
        "colab": {
          "base_uri": "https://localhost:8080/",
          "height": 1000
        },
        "id": "LRQ_TWX6KfxT",
        "outputId": "82504f2a-d115-4795-b418-1f0278c8c1d3"
      },
      "execution_count": 61,
      "outputs": [
        {
          "output_type": "stream",
          "name": "stdout",
          "text": [
            "\n",
            "✅ Cleaned 'Information Received From' into 'Info_Source' and 'Info_Phone'\n",
            "      Information Received From     Info_Source  Info_Phone\n",
            "0              Pdo (9480862507)             PDO  9480862507\n",
            "1           Member (9448152551)          MEMBER  9448152551\n",
            "2              PDO (9480862507)             PDO  9480862507\n",
            "3              PDO (9480862507)             PDO  9480862507\n",
            "4              PDO (9480862231)             PDO  9480862231\n",
            "5  Pdo aladangady  (9480862200)  PDO ALADANGADY  9480862200\n",
            "6              PDO (9480862231)             PDO  9480862231\n",
            "7       PDO NARAVI (9480862231)      PDO NARAVI  9480862231\n",
            "8        PDO balpa (9731683148)       PDO BALPA  9731683148\n",
            "9  Pdo aladangady  (9480862200)  PDO ALADANGADY  9480862200\n"
          ]
        },
        {
          "output_type": "execute_result",
          "data": {
            "text/plain": [
              "      Sl. No. Incident Type                                    Location  \\\n",
              "0           1        Others  Government Senior Primary School Beleringe   \n",
              "1           2        Others          Kindi Dam in Majalu, Kinya village   \n",
              "2           3        Others                                     Meenadi   \n",
              "3           4     Landslide          Near Kinya Grama Panchayath office   \n",
              "4           5   Tree fallen                     Naravi to Panal zp road   \n",
              "...       ...           ...                                         ...   \n",
              "1113     1114     Landslide                                Sheeyadakodi   \n",
              "1114     1115     Landslide                              Kadirudyavara    \n",
              "1115     1116      Mud slip                                   Shettipal   \n",
              "1116     1117      Mud slip                                 Erumalpalke   \n",
              "1117     1118         Flood                                     Nekkala   \n",
              "\n",
              "            Taluk              Information Received From   Received Date/Time  \\\n",
              "0          Ullala                       Pdo (9480862507)  2024-12-08 20:30:01   \n",
              "1          Ullala                    Member (9448152551)  2024-12-08 16:23:29   \n",
              "2          Ullala                       PDO (9480862507)  2024-12-08 16:15:31   \n",
              "3          Ullala                       PDO (9480862507)  2024-12-08 15:59:10   \n",
              "4     Belthangady                       PDO (9480862231)  2024-12-08 15:21:34   \n",
              "...           ...                                    ...                  ...   \n",
              "1113  Belthangady               Guruprasad  (9880724132)  2024-01-08 16:16:58   \n",
              "1114  Belthangady                   Savitri (9611649285)  2024-01-08 16:15:58   \n",
              "1115  Belthangady                     Shali (9581346883)  2024-01-08 13:10:15   \n",
              "1116  Belthangady            Ramesh poojary (8971159857)  2024-01-08 12:02:43   \n",
              "1117       Puttur  Jainabi w/o Abdul Hameed (9964976623)  2024-01-08 11:10:01   \n",
              "\n",
              "     Incident Reported at  Action Taken By     Action Date/Time  \\\n",
              "0     2024-08-12 20:34:46              NaN                  NaN   \n",
              "1     2024-08-12 16:32:39         Tulasi P  2024-08-12 16:34:14   \n",
              "2     2024-08-12 16:22:38              NaN                  NaN   \n",
              "3     2024-08-12 16:08:37              NaN                  NaN   \n",
              "4     2024-08-12 15:24:44       Sudhakar D  2024-08-12 15:31:37   \n",
              "...                   ...              ...                  ...   \n",
              "1113  2024-08-14 16:21:10     Ravi Ningana  2024-08-14 16:22:51   \n",
              "1114  2024-08-09 16:18:07     Ravi Ningana  2024-08-09 16:19:12   \n",
              "1115  2024-08-14 13:15:34     Ravi Ningana  2024-08-14 13:17:39   \n",
              "1116  2024-08-12 12:16:20     Ravi Ningana  2024-08-12 12:25:10   \n",
              "1117  2024-08-19 11:12:07  Sathish Bangera  2024-08-19 11:14:45   \n",
              "\n",
              "                                         Action Remarks  ...  \\\n",
              "0                                                   NaN  ...   \n",
              "1                                       Visited to site  ...   \n",
              "2                                                   NaN  ...   \n",
              "3                                                   NaN  ...   \n",
              "4     Due to heavy rain trees fallen across the Nara...  ...   \n",
              "...                                                 ...  ...   \n",
              "1113                                                NaN  ...   \n",
              "1114                                         Land slide  ...   \n",
              "1115                                                NaN  ...   \n",
              "1116                                                NaN  ...   \n",
              "1117                            Partial damage to house  ...   \n",
              "\n",
              "     Closed By Officer            Closed At  \\\n",
              "0                  NaN                  NaN   \n",
              "1             Tulasi P  2024-08-12 16:46:52   \n",
              "2                  NaN                  NaN   \n",
              "3                  NaN                  NaN   \n",
              "4           Sudhakar D  2024-08-12 15:34:01   \n",
              "...                ...                  ...   \n",
              "1113               NaN                  NaN   \n",
              "1114               NaN                  NaN   \n",
              "1115               NaN                  NaN   \n",
              "1116               NaN                  NaN   \n",
              "1117   Sathish Bangera  2024-08-19 11:26:19   \n",
              "\n",
              "                                         Closed Remarks Time taken to Close  \\\n",
              "0                                                   NaN                 NaN   \n",
              "1         ಪಂಚಾಯತ್ ವತಿಯಿಂದ ಹೂಳನ್ನು ತೆರವುಗೊಳಿಸಲಾಗಿರುತ್ತದೆ          0h 14m 13s   \n",
              "2                                                   NaN                 NaN   \n",
              "3                                                   NaN                 NaN   \n",
              "4     Fallen trees removed by machinary &manual labour.           0h 9m 17s   \n",
              "...                                                 ...                 ...   \n",
              "1113                                                NaN                 NaN   \n",
              "1114                                                NaN                 NaN   \n",
              "1115                                                NaN                 NaN   \n",
              "1116                                                NaN                 NaN   \n",
              "1117                                            Checked          0h 14m 12s   \n",
              "\n",
              "     Photo Before  Photo After                         Location_translated  \\\n",
              "0             NaN          NaN  Government Senior Primary School Beleringe   \n",
              "1             NaN          NaN          Kindi Dam in Majalu, Kinya village   \n",
              "2             NaN          NaN                                     Meenadi   \n",
              "3             NaN          NaN          Near Kinya Grama Panchayath office   \n",
              "4             NaN          NaN                     Naravi to Panal zp road   \n",
              "...           ...          ...                                         ...   \n",
              "1113          NaN          NaN                                Sheeyadakodi   \n",
              "1114          NaN          NaN                              Kadirudyavara    \n",
              "1115          NaN          NaN                                   Shettipal   \n",
              "1116          NaN          NaN                                 Erumalpalke   \n",
              "1117          NaN          NaN                                     Nekkala   \n",
              "\n",
              "     translation_changed               Info_Source  Info_Phone  \n",
              "0                   True                       PDO  9480862507  \n",
              "1                   True                    MEMBER  9448152551  \n",
              "2                  False                       PDO  9480862507  \n",
              "3                  False                       PDO  9480862507  \n",
              "4                  False                       PDO  9480862231  \n",
              "...                  ...                       ...         ...  \n",
              "1113               False                GURUPRASAD  9880724132  \n",
              "1114               False                   SAVITRI  9611649285  \n",
              "1115               False                     SHALI  9581346883  \n",
              "1116               False            RAMESH POOJARY  8971159857  \n",
              "1117               False  JAINABI W/O ABDUL HAMEED  9964976623  \n",
              "\n",
              "[1118 rows x 21 columns]"
            ],
            "text/html": [
              "\n",
              "  <div id=\"df-f0716ab0-3c8f-45c0-ac91-821a1f59009b\" class=\"colab-df-container\">\n",
              "    <div>\n",
              "<style scoped>\n",
              "    .dataframe tbody tr th:only-of-type {\n",
              "        vertical-align: middle;\n",
              "    }\n",
              "\n",
              "    .dataframe tbody tr th {\n",
              "        vertical-align: top;\n",
              "    }\n",
              "\n",
              "    .dataframe thead th {\n",
              "        text-align: right;\n",
              "    }\n",
              "</style>\n",
              "<table border=\"1\" class=\"dataframe\">\n",
              "  <thead>\n",
              "    <tr style=\"text-align: right;\">\n",
              "      <th></th>\n",
              "      <th>Sl. No.</th>\n",
              "      <th>Incident Type</th>\n",
              "      <th>Location</th>\n",
              "      <th>Taluk</th>\n",
              "      <th>Information Received From</th>\n",
              "      <th>Received Date/Time</th>\n",
              "      <th>Incident Reported at</th>\n",
              "      <th>Action Taken By</th>\n",
              "      <th>Action Date/Time</th>\n",
              "      <th>Action Remarks</th>\n",
              "      <th>...</th>\n",
              "      <th>Closed By Officer</th>\n",
              "      <th>Closed At</th>\n",
              "      <th>Closed Remarks</th>\n",
              "      <th>Time taken to Close</th>\n",
              "      <th>Photo Before</th>\n",
              "      <th>Photo After</th>\n",
              "      <th>Location_translated</th>\n",
              "      <th>translation_changed</th>\n",
              "      <th>Info_Source</th>\n",
              "      <th>Info_Phone</th>\n",
              "    </tr>\n",
              "  </thead>\n",
              "  <tbody>\n",
              "    <tr>\n",
              "      <th>0</th>\n",
              "      <td>1</td>\n",
              "      <td>Others</td>\n",
              "      <td>Government Senior Primary School Beleringe</td>\n",
              "      <td>Ullala</td>\n",
              "      <td>Pdo (9480862507)</td>\n",
              "      <td>2024-12-08 20:30:01</td>\n",
              "      <td>2024-08-12 20:34:46</td>\n",
              "      <td>NaN</td>\n",
              "      <td>NaN</td>\n",
              "      <td>NaN</td>\n",
              "      <td>...</td>\n",
              "      <td>NaN</td>\n",
              "      <td>NaN</td>\n",
              "      <td>NaN</td>\n",
              "      <td>NaN</td>\n",
              "      <td>NaN</td>\n",
              "      <td>NaN</td>\n",
              "      <td>Government Senior Primary School Beleringe</td>\n",
              "      <td>True</td>\n",
              "      <td>PDO</td>\n",
              "      <td>9480862507</td>\n",
              "    </tr>\n",
              "    <tr>\n",
              "      <th>1</th>\n",
              "      <td>2</td>\n",
              "      <td>Others</td>\n",
              "      <td>Kindi Dam in Majalu, Kinya village</td>\n",
              "      <td>Ullala</td>\n",
              "      <td>Member (9448152551)</td>\n",
              "      <td>2024-12-08 16:23:29</td>\n",
              "      <td>2024-08-12 16:32:39</td>\n",
              "      <td>Tulasi P</td>\n",
              "      <td>2024-08-12 16:34:14</td>\n",
              "      <td>Visited to site</td>\n",
              "      <td>...</td>\n",
              "      <td>Tulasi P</td>\n",
              "      <td>2024-08-12 16:46:52</td>\n",
              "      <td>ಪಂಚಾಯತ್ ವತಿಯಿಂದ ಹೂಳನ್ನು ತೆರವುಗೊಳಿಸಲಾಗಿರುತ್ತದೆ</td>\n",
              "      <td>0h 14m 13s</td>\n",
              "      <td>NaN</td>\n",
              "      <td>NaN</td>\n",
              "      <td>Kindi Dam in Majalu, Kinya village</td>\n",
              "      <td>True</td>\n",
              "      <td>MEMBER</td>\n",
              "      <td>9448152551</td>\n",
              "    </tr>\n",
              "    <tr>\n",
              "      <th>2</th>\n",
              "      <td>3</td>\n",
              "      <td>Others</td>\n",
              "      <td>Meenadi</td>\n",
              "      <td>Ullala</td>\n",
              "      <td>PDO (9480862507)</td>\n",
              "      <td>2024-12-08 16:15:31</td>\n",
              "      <td>2024-08-12 16:22:38</td>\n",
              "      <td>NaN</td>\n",
              "      <td>NaN</td>\n",
              "      <td>NaN</td>\n",
              "      <td>...</td>\n",
              "      <td>NaN</td>\n",
              "      <td>NaN</td>\n",
              "      <td>NaN</td>\n",
              "      <td>NaN</td>\n",
              "      <td>NaN</td>\n",
              "      <td>NaN</td>\n",
              "      <td>Meenadi</td>\n",
              "      <td>False</td>\n",
              "      <td>PDO</td>\n",
              "      <td>9480862507</td>\n",
              "    </tr>\n",
              "    <tr>\n",
              "      <th>3</th>\n",
              "      <td>4</td>\n",
              "      <td>Landslide</td>\n",
              "      <td>Near Kinya Grama Panchayath office</td>\n",
              "      <td>Ullala</td>\n",
              "      <td>PDO (9480862507)</td>\n",
              "      <td>2024-12-08 15:59:10</td>\n",
              "      <td>2024-08-12 16:08:37</td>\n",
              "      <td>NaN</td>\n",
              "      <td>NaN</td>\n",
              "      <td>NaN</td>\n",
              "      <td>...</td>\n",
              "      <td>NaN</td>\n",
              "      <td>NaN</td>\n",
              "      <td>NaN</td>\n",
              "      <td>NaN</td>\n",
              "      <td>NaN</td>\n",
              "      <td>NaN</td>\n",
              "      <td>Near Kinya Grama Panchayath office</td>\n",
              "      <td>False</td>\n",
              "      <td>PDO</td>\n",
              "      <td>9480862507</td>\n",
              "    </tr>\n",
              "    <tr>\n",
              "      <th>4</th>\n",
              "      <td>5</td>\n",
              "      <td>Tree fallen</td>\n",
              "      <td>Naravi to Panal zp road</td>\n",
              "      <td>Belthangady</td>\n",
              "      <td>PDO (9480862231)</td>\n",
              "      <td>2024-12-08 15:21:34</td>\n",
              "      <td>2024-08-12 15:24:44</td>\n",
              "      <td>Sudhakar D</td>\n",
              "      <td>2024-08-12 15:31:37</td>\n",
              "      <td>Due to heavy rain trees fallen across the Nara...</td>\n",
              "      <td>...</td>\n",
              "      <td>Sudhakar D</td>\n",
              "      <td>2024-08-12 15:34:01</td>\n",
              "      <td>Fallen trees removed by machinary &amp;manual labour.</td>\n",
              "      <td>0h 9m 17s</td>\n",
              "      <td>NaN</td>\n",
              "      <td>NaN</td>\n",
              "      <td>Naravi to Panal zp road</td>\n",
              "      <td>False</td>\n",
              "      <td>PDO</td>\n",
              "      <td>9480862231</td>\n",
              "    </tr>\n",
              "    <tr>\n",
              "      <th>...</th>\n",
              "      <td>...</td>\n",
              "      <td>...</td>\n",
              "      <td>...</td>\n",
              "      <td>...</td>\n",
              "      <td>...</td>\n",
              "      <td>...</td>\n",
              "      <td>...</td>\n",
              "      <td>...</td>\n",
              "      <td>...</td>\n",
              "      <td>...</td>\n",
              "      <td>...</td>\n",
              "      <td>...</td>\n",
              "      <td>...</td>\n",
              "      <td>...</td>\n",
              "      <td>...</td>\n",
              "      <td>...</td>\n",
              "      <td>...</td>\n",
              "      <td>...</td>\n",
              "      <td>...</td>\n",
              "      <td>...</td>\n",
              "      <td>...</td>\n",
              "    </tr>\n",
              "    <tr>\n",
              "      <th>1113</th>\n",
              "      <td>1114</td>\n",
              "      <td>Landslide</td>\n",
              "      <td>Sheeyadakodi</td>\n",
              "      <td>Belthangady</td>\n",
              "      <td>Guruprasad  (9880724132)</td>\n",
              "      <td>2024-01-08 16:16:58</td>\n",
              "      <td>2024-08-14 16:21:10</td>\n",
              "      <td>Ravi Ningana</td>\n",
              "      <td>2024-08-14 16:22:51</td>\n",
              "      <td>NaN</td>\n",
              "      <td>...</td>\n",
              "      <td>NaN</td>\n",
              "      <td>NaN</td>\n",
              "      <td>NaN</td>\n",
              "      <td>NaN</td>\n",
              "      <td>NaN</td>\n",
              "      <td>NaN</td>\n",
              "      <td>Sheeyadakodi</td>\n",
              "      <td>False</td>\n",
              "      <td>GURUPRASAD</td>\n",
              "      <td>9880724132</td>\n",
              "    </tr>\n",
              "    <tr>\n",
              "      <th>1114</th>\n",
              "      <td>1115</td>\n",
              "      <td>Landslide</td>\n",
              "      <td>Kadirudyavara</td>\n",
              "      <td>Belthangady</td>\n",
              "      <td>Savitri (9611649285)</td>\n",
              "      <td>2024-01-08 16:15:58</td>\n",
              "      <td>2024-08-09 16:18:07</td>\n",
              "      <td>Ravi Ningana</td>\n",
              "      <td>2024-08-09 16:19:12</td>\n",
              "      <td>Land slide</td>\n",
              "      <td>...</td>\n",
              "      <td>NaN</td>\n",
              "      <td>NaN</td>\n",
              "      <td>NaN</td>\n",
              "      <td>NaN</td>\n",
              "      <td>NaN</td>\n",
              "      <td>NaN</td>\n",
              "      <td>Kadirudyavara</td>\n",
              "      <td>False</td>\n",
              "      <td>SAVITRI</td>\n",
              "      <td>9611649285</td>\n",
              "    </tr>\n",
              "    <tr>\n",
              "      <th>1115</th>\n",
              "      <td>1116</td>\n",
              "      <td>Mud slip</td>\n",
              "      <td>Shettipal</td>\n",
              "      <td>Belthangady</td>\n",
              "      <td>Shali (9581346883)</td>\n",
              "      <td>2024-01-08 13:10:15</td>\n",
              "      <td>2024-08-14 13:15:34</td>\n",
              "      <td>Ravi Ningana</td>\n",
              "      <td>2024-08-14 13:17:39</td>\n",
              "      <td>NaN</td>\n",
              "      <td>...</td>\n",
              "      <td>NaN</td>\n",
              "      <td>NaN</td>\n",
              "      <td>NaN</td>\n",
              "      <td>NaN</td>\n",
              "      <td>NaN</td>\n",
              "      <td>NaN</td>\n",
              "      <td>Shettipal</td>\n",
              "      <td>False</td>\n",
              "      <td>SHALI</td>\n",
              "      <td>9581346883</td>\n",
              "    </tr>\n",
              "    <tr>\n",
              "      <th>1116</th>\n",
              "      <td>1117</td>\n",
              "      <td>Mud slip</td>\n",
              "      <td>Erumalpalke</td>\n",
              "      <td>Belthangady</td>\n",
              "      <td>Ramesh poojary (8971159857)</td>\n",
              "      <td>2024-01-08 12:02:43</td>\n",
              "      <td>2024-08-12 12:16:20</td>\n",
              "      <td>Ravi Ningana</td>\n",
              "      <td>2024-08-12 12:25:10</td>\n",
              "      <td>NaN</td>\n",
              "      <td>...</td>\n",
              "      <td>NaN</td>\n",
              "      <td>NaN</td>\n",
              "      <td>NaN</td>\n",
              "      <td>NaN</td>\n",
              "      <td>NaN</td>\n",
              "      <td>NaN</td>\n",
              "      <td>Erumalpalke</td>\n",
              "      <td>False</td>\n",
              "      <td>RAMESH POOJARY</td>\n",
              "      <td>8971159857</td>\n",
              "    </tr>\n",
              "    <tr>\n",
              "      <th>1117</th>\n",
              "      <td>1118</td>\n",
              "      <td>Flood</td>\n",
              "      <td>Nekkala</td>\n",
              "      <td>Puttur</td>\n",
              "      <td>Jainabi w/o Abdul Hameed (9964976623)</td>\n",
              "      <td>2024-01-08 11:10:01</td>\n",
              "      <td>2024-08-19 11:12:07</td>\n",
              "      <td>Sathish Bangera</td>\n",
              "      <td>2024-08-19 11:14:45</td>\n",
              "      <td>Partial damage to house</td>\n",
              "      <td>...</td>\n",
              "      <td>Sathish Bangera</td>\n",
              "      <td>2024-08-19 11:26:19</td>\n",
              "      <td>Checked</td>\n",
              "      <td>0h 14m 12s</td>\n",
              "      <td>NaN</td>\n",
              "      <td>NaN</td>\n",
              "      <td>Nekkala</td>\n",
              "      <td>False</td>\n",
              "      <td>JAINABI W/O ABDUL HAMEED</td>\n",
              "      <td>9964976623</td>\n",
              "    </tr>\n",
              "  </tbody>\n",
              "</table>\n",
              "<p>1118 rows × 21 columns</p>\n",
              "</div>\n",
              "    <div class=\"colab-df-buttons\">\n",
              "\n",
              "  <div class=\"colab-df-container\">\n",
              "    <button class=\"colab-df-convert\" onclick=\"convertToInteractive('df-f0716ab0-3c8f-45c0-ac91-821a1f59009b')\"\n",
              "            title=\"Convert this dataframe to an interactive table.\"\n",
              "            style=\"display:none;\">\n",
              "\n",
              "  <svg xmlns=\"http://www.w3.org/2000/svg\" height=\"24px\" viewBox=\"0 -960 960 960\">\n",
              "    <path d=\"M120-120v-720h720v720H120Zm60-500h600v-160H180v160Zm220 220h160v-160H400v160Zm0 220h160v-160H400v160ZM180-400h160v-160H180v160Zm440 0h160v-160H620v160ZM180-180h160v-160H180v160Zm440 0h160v-160H620v160Z\"/>\n",
              "  </svg>\n",
              "    </button>\n",
              "\n",
              "  <style>\n",
              "    .colab-df-container {\n",
              "      display:flex;\n",
              "      gap: 12px;\n",
              "    }\n",
              "\n",
              "    .colab-df-convert {\n",
              "      background-color: #E8F0FE;\n",
              "      border: none;\n",
              "      border-radius: 50%;\n",
              "      cursor: pointer;\n",
              "      display: none;\n",
              "      fill: #1967D2;\n",
              "      height: 32px;\n",
              "      padding: 0 0 0 0;\n",
              "      width: 32px;\n",
              "    }\n",
              "\n",
              "    .colab-df-convert:hover {\n",
              "      background-color: #E2EBFA;\n",
              "      box-shadow: 0px 1px 2px rgba(60, 64, 67, 0.3), 0px 1px 3px 1px rgba(60, 64, 67, 0.15);\n",
              "      fill: #174EA6;\n",
              "    }\n",
              "\n",
              "    .colab-df-buttons div {\n",
              "      margin-bottom: 4px;\n",
              "    }\n",
              "\n",
              "    [theme=dark] .colab-df-convert {\n",
              "      background-color: #3B4455;\n",
              "      fill: #D2E3FC;\n",
              "    }\n",
              "\n",
              "    [theme=dark] .colab-df-convert:hover {\n",
              "      background-color: #434B5C;\n",
              "      box-shadow: 0px 1px 3px 1px rgba(0, 0, 0, 0.15);\n",
              "      filter: drop-shadow(0px 1px 2px rgba(0, 0, 0, 0.3));\n",
              "      fill: #FFFFFF;\n",
              "    }\n",
              "  </style>\n",
              "\n",
              "    <script>\n",
              "      const buttonEl =\n",
              "        document.querySelector('#df-f0716ab0-3c8f-45c0-ac91-821a1f59009b button.colab-df-convert');\n",
              "      buttonEl.style.display =\n",
              "        google.colab.kernel.accessAllowed ? 'block' : 'none';\n",
              "\n",
              "      async function convertToInteractive(key) {\n",
              "        const element = document.querySelector('#df-f0716ab0-3c8f-45c0-ac91-821a1f59009b');\n",
              "        const dataTable =\n",
              "          await google.colab.kernel.invokeFunction('convertToInteractive',\n",
              "                                                    [key], {});\n",
              "        if (!dataTable) return;\n",
              "\n",
              "        const docLinkHtml = 'Like what you see? Visit the ' +\n",
              "          '<a target=\"_blank\" href=https://colab.research.google.com/notebooks/data_table.ipynb>data table notebook</a>'\n",
              "          + ' to learn more about interactive tables.';\n",
              "        element.innerHTML = '';\n",
              "        dataTable['output_type'] = 'display_data';\n",
              "        await google.colab.output.renderOutput(dataTable, element);\n",
              "        const docLink = document.createElement('div');\n",
              "        docLink.innerHTML = docLinkHtml;\n",
              "        element.appendChild(docLink);\n",
              "      }\n",
              "    </script>\n",
              "  </div>\n",
              "\n",
              "\n",
              "    <div id=\"df-966e5305-d5be-43c6-8c38-3b5e2990a92e\">\n",
              "      <button class=\"colab-df-quickchart\" onclick=\"quickchart('df-966e5305-d5be-43c6-8c38-3b5e2990a92e')\"\n",
              "                title=\"Suggest charts\"\n",
              "                style=\"display:none;\">\n",
              "\n",
              "<svg xmlns=\"http://www.w3.org/2000/svg\" height=\"24px\"viewBox=\"0 0 24 24\"\n",
              "     width=\"24px\">\n",
              "    <g>\n",
              "        <path d=\"M19 3H5c-1.1 0-2 .9-2 2v14c0 1.1.9 2 2 2h14c1.1 0 2-.9 2-2V5c0-1.1-.9-2-2-2zM9 17H7v-7h2v7zm4 0h-2V7h2v10zm4 0h-2v-4h2v4z\"/>\n",
              "    </g>\n",
              "</svg>\n",
              "      </button>\n",
              "\n",
              "<style>\n",
              "  .colab-df-quickchart {\n",
              "      --bg-color: #E8F0FE;\n",
              "      --fill-color: #1967D2;\n",
              "      --hover-bg-color: #E2EBFA;\n",
              "      --hover-fill-color: #174EA6;\n",
              "      --disabled-fill-color: #AAA;\n",
              "      --disabled-bg-color: #DDD;\n",
              "  }\n",
              "\n",
              "  [theme=dark] .colab-df-quickchart {\n",
              "      --bg-color: #3B4455;\n",
              "      --fill-color: #D2E3FC;\n",
              "      --hover-bg-color: #434B5C;\n",
              "      --hover-fill-color: #FFFFFF;\n",
              "      --disabled-bg-color: #3B4455;\n",
              "      --disabled-fill-color: #666;\n",
              "  }\n",
              "\n",
              "  .colab-df-quickchart {\n",
              "    background-color: var(--bg-color);\n",
              "    border: none;\n",
              "    border-radius: 50%;\n",
              "    cursor: pointer;\n",
              "    display: none;\n",
              "    fill: var(--fill-color);\n",
              "    height: 32px;\n",
              "    padding: 0;\n",
              "    width: 32px;\n",
              "  }\n",
              "\n",
              "  .colab-df-quickchart:hover {\n",
              "    background-color: var(--hover-bg-color);\n",
              "    box-shadow: 0 1px 2px rgba(60, 64, 67, 0.3), 0 1px 3px 1px rgba(60, 64, 67, 0.15);\n",
              "    fill: var(--button-hover-fill-color);\n",
              "  }\n",
              "\n",
              "  .colab-df-quickchart-complete:disabled,\n",
              "  .colab-df-quickchart-complete:disabled:hover {\n",
              "    background-color: var(--disabled-bg-color);\n",
              "    fill: var(--disabled-fill-color);\n",
              "    box-shadow: none;\n",
              "  }\n",
              "\n",
              "  .colab-df-spinner {\n",
              "    border: 2px solid var(--fill-color);\n",
              "    border-color: transparent;\n",
              "    border-bottom-color: var(--fill-color);\n",
              "    animation:\n",
              "      spin 1s steps(1) infinite;\n",
              "  }\n",
              "\n",
              "  @keyframes spin {\n",
              "    0% {\n",
              "      border-color: transparent;\n",
              "      border-bottom-color: var(--fill-color);\n",
              "      border-left-color: var(--fill-color);\n",
              "    }\n",
              "    20% {\n",
              "      border-color: transparent;\n",
              "      border-left-color: var(--fill-color);\n",
              "      border-top-color: var(--fill-color);\n",
              "    }\n",
              "    30% {\n",
              "      border-color: transparent;\n",
              "      border-left-color: var(--fill-color);\n",
              "      border-top-color: var(--fill-color);\n",
              "      border-right-color: var(--fill-color);\n",
              "    }\n",
              "    40% {\n",
              "      border-color: transparent;\n",
              "      border-right-color: var(--fill-color);\n",
              "      border-top-color: var(--fill-color);\n",
              "    }\n",
              "    60% {\n",
              "      border-color: transparent;\n",
              "      border-right-color: var(--fill-color);\n",
              "    }\n",
              "    80% {\n",
              "      border-color: transparent;\n",
              "      border-right-color: var(--fill-color);\n",
              "      border-bottom-color: var(--fill-color);\n",
              "    }\n",
              "    90% {\n",
              "      border-color: transparent;\n",
              "      border-bottom-color: var(--fill-color);\n",
              "    }\n",
              "  }\n",
              "</style>\n",
              "\n",
              "      <script>\n",
              "        async function quickchart(key) {\n",
              "          const quickchartButtonEl =\n",
              "            document.querySelector('#' + key + ' button');\n",
              "          quickchartButtonEl.disabled = true;  // To prevent multiple clicks.\n",
              "          quickchartButtonEl.classList.add('colab-df-spinner');\n",
              "          try {\n",
              "            const charts = await google.colab.kernel.invokeFunction(\n",
              "                'suggestCharts', [key], {});\n",
              "          } catch (error) {\n",
              "            console.error('Error during call to suggestCharts:', error);\n",
              "          }\n",
              "          quickchartButtonEl.classList.remove('colab-df-spinner');\n",
              "          quickchartButtonEl.classList.add('colab-df-quickchart-complete');\n",
              "        }\n",
              "        (() => {\n",
              "          let quickchartButtonEl =\n",
              "            document.querySelector('#df-966e5305-d5be-43c6-8c38-3b5e2990a92e button');\n",
              "          quickchartButtonEl.style.display =\n",
              "            google.colab.kernel.accessAllowed ? 'block' : 'none';\n",
              "        })();\n",
              "      </script>\n",
              "    </div>\n",
              "\n",
              "  <div id=\"id_5ba04c15-35ac-4b8b-b24a-181e9c47c6d3\">\n",
              "    <style>\n",
              "      .colab-df-generate {\n",
              "        background-color: #E8F0FE;\n",
              "        border: none;\n",
              "        border-radius: 50%;\n",
              "        cursor: pointer;\n",
              "        display: none;\n",
              "        fill: #1967D2;\n",
              "        height: 32px;\n",
              "        padding: 0 0 0 0;\n",
              "        width: 32px;\n",
              "      }\n",
              "\n",
              "      .colab-df-generate:hover {\n",
              "        background-color: #E2EBFA;\n",
              "        box-shadow: 0px 1px 2px rgba(60, 64, 67, 0.3), 0px 1px 3px 1px rgba(60, 64, 67, 0.15);\n",
              "        fill: #174EA6;\n",
              "      }\n",
              "\n",
              "      [theme=dark] .colab-df-generate {\n",
              "        background-color: #3B4455;\n",
              "        fill: #D2E3FC;\n",
              "      }\n",
              "\n",
              "      [theme=dark] .colab-df-generate:hover {\n",
              "        background-color: #434B5C;\n",
              "        box-shadow: 0px 1px 3px 1px rgba(0, 0, 0, 0.15);\n",
              "        filter: drop-shadow(0px 1px 2px rgba(0, 0, 0, 0.3));\n",
              "        fill: #FFFFFF;\n",
              "      }\n",
              "    </style>\n",
              "    <button class=\"colab-df-generate\" onclick=\"generateWithVariable('df')\"\n",
              "            title=\"Generate code using this dataframe.\"\n",
              "            style=\"display:none;\">\n",
              "\n",
              "  <svg xmlns=\"http://www.w3.org/2000/svg\" height=\"24px\"viewBox=\"0 0 24 24\"\n",
              "       width=\"24px\">\n",
              "    <path d=\"M7,19H8.4L18.45,9,17,7.55,7,17.6ZM5,21V16.75L18.45,3.32a2,2,0,0,1,2.83,0l1.4,1.43a1.91,1.91,0,0,1,.58,1.4,1.91,1.91,0,0,1-.58,1.4L9.25,21ZM18.45,9,17,7.55Zm-12,3A5.31,5.31,0,0,0,4.9,8.1,5.31,5.31,0,0,0,1,6.5,5.31,5.31,0,0,0,4.9,4.9,5.31,5.31,0,0,0,6.5,1,5.31,5.31,0,0,0,8.1,4.9,5.31,5.31,0,0,0,12,6.5,5.46,5.46,0,0,0,6.5,12Z\"/>\n",
              "  </svg>\n",
              "    </button>\n",
              "    <script>\n",
              "      (() => {\n",
              "      const buttonEl =\n",
              "        document.querySelector('#id_5ba04c15-35ac-4b8b-b24a-181e9c47c6d3 button.colab-df-generate');\n",
              "      buttonEl.style.display =\n",
              "        google.colab.kernel.accessAllowed ? 'block' : 'none';\n",
              "\n",
              "      buttonEl.onclick = () => {\n",
              "        google.colab.notebook.generateWithVariable('df');\n",
              "      }\n",
              "      })();\n",
              "    </script>\n",
              "  </div>\n",
              "\n",
              "    </div>\n",
              "  </div>\n"
            ],
            "application/vnd.google.colaboratory.intrinsic+json": {
              "type": "dataframe",
              "variable_name": "df"
            }
          },
          "metadata": {},
          "execution_count": 61
        }
      ]
    },
    {
      "cell_type": "code",
      "source": [
        "inspect_columns('Info_Source')"
      ],
      "metadata": {
        "colab": {
          "base_uri": "https://localhost:8080/"
        },
        "id": "BHV9K79fKnOG",
        "outputId": "c2833956-c8fd-4c02-da82-1c962559f74b"
      },
      "execution_count": 66,
      "outputs": [
        {
          "output_type": "stream",
          "name": "stdout",
          "text": [
            "\n",
            "Column: Info_Source\n",
            "----------------------------------------\n",
            "Unique values: 474\n",
            "Value counts:\n",
            " Info_Source\n",
            "PUBLIC                                             167\n",
            "PDO                                                 76\n",
            "SELF                                                41\n",
            "WARD CONCILLOR                                      30\n",
            "PDO ALADANGADY                                      20\n",
            "                                                  ... \n",
            "It is possible to take effect on the hill house      1\n",
            "LAXMANA GOWDA                                        1\n",
            "IBRAHIM                                              1\n",
            "RAMANANDA BHAT                                       1\n",
            "RAIN                                                 1\n",
            "Name: count, Length: 474, dtype: int64\n",
            "\n",
            "Data type: object\n",
            "\n",
            "Missing values: 0\n",
            "\n",
            "Max length: 101\n",
            "Sample values:\n",
            " ['PDO' 'MEMBER' 'PDO ALADANGADY' 'PDO NARAVI' 'PDO BALPA']\n"
          ]
        }
      ]
    },
    {
      "cell_type": "code",
      "source": [
        "df = translate_kannada_column_inplace(df, 'Info_Source')\n"
      ],
      "metadata": {
        "colab": {
          "base_uri": "https://localhost:8080/"
        },
        "id": "p3PPpXJGK4Uv",
        "outputId": "8dae9a53-d6e6-43cd-8687-3ab9ac8b68b2"
      },
      "execution_count": 64,
      "outputs": [
        {
          "output_type": "stream",
          "name": "stdout",
          "text": [
            "\n",
            "✅ Total records changed in column 'Info_Source': 39\n",
            "\n",
            "🔄 Sample of changed records:\n",
            "                                              Original  \\\n",
            "18                                               ಚೇತನ್   \n",
            "19                          ದಮಯಂತಿ ಅಂಗನವಾಡಿ ಕಾರ್ಯಕರ್ತೆ   \n",
            "22                                           ಅಣ್ಣು ಗೌಡ   \n",
            "60   ಪಡಂಗಡಿ ಗ್ರಾಮದ ಮಲ್ಲಿಪಾಡಿ ಅಮರನಾಥ ಹೆಗ್ಡೆ ಬಿನ್ ಜಿನ...   \n",
            "267  ಪಂಚಾಯತ್ ಅಭಿವೃದ್ಧಿ ಅಧಿಕಾರಿ ಮುತ್ತೂರು ಗ್ರಾಮ ಪಂಚಾಯತ್‌   \n",
            "\n",
            "                                            Translated  \n",
            "18                                              Chetan  \n",
            "19                        Damayanti Anganwadi activist  \n",
            "22                                            Pantheon  \n",
            "60   Mallipady Amarnath Hegde bin Jinaraja Hegde's ...  \n",
            "267  Panchayat Development Officer Muttur Gram Panc...  \n"
          ]
        }
      ]
    },
    {
      "cell_type": "code",
      "source": [
        "non_latin_count, non_latin_records = check_non_latin_or_empty_and_show(df, 'Location')\n"
      ],
      "metadata": {
        "colab": {
          "base_uri": "https://localhost:8080/"
        },
        "id": "hp5LbYh8LapH",
        "outputId": "10698298-d720-4702-efb5-9c9e8d396afc"
      },
      "execution_count": 65,
      "outputs": [
        {
          "output_type": "stream",
          "name": "stdout",
          "text": [
            "Non-Latin or empty values in 'Location': 3\n",
            "\n",
            "Sample of non-Latin or empty values:\n",
            "                                           Location\n",
            "669               Pattla Gandi Near Thanthrís House\n",
            "953  Kukkaj̧e near Siddique House and Masjid Masjid\n",
            "994                       Patla Near Thanthís House\n"
          ]
        }
      ]
    },
    {
      "cell_type": "markdown",
      "source": [
        "### Incident Reported at"
      ],
      "metadata": {
        "id": "7LMG7SRELzh6"
      }
    },
    {
      "cell_type": "code",
      "source": [
        "inspect_columns(\"Incident Reported at\")"
      ],
      "metadata": {
        "colab": {
          "base_uri": "https://localhost:8080/"
        },
        "id": "9fI26arLLntE",
        "outputId": "66b48b10-7b53-4ba7-839d-43f97440cc31"
      },
      "execution_count": 71,
      "outputs": [
        {
          "output_type": "stream",
          "name": "stdout",
          "text": [
            "\n",
            "Column: Incident Reported at\n",
            "----------------------------------------\n",
            "Unique values: 1094\n",
            "Value counts:\n",
            " Incident Reported at\n",
            "2024-08-12 16:28:32    4\n",
            "2024-08-13 12:09:18    2\n",
            "2024-07-24 13:14:41    2\n",
            "2024-07-24 13:19:52    2\n",
            "2024-07-01 10:31:50    2\n",
            "                      ..\n",
            "2024-08-14 14:02:56    1\n",
            "2024-08-14 14:04:47    1\n",
            "2024-08-14 14:07:12    1\n",
            "2024-08-14 14:09:21    1\n",
            "2024-08-14 13:41:13    1\n",
            "Name: count, Length: 1094, dtype: int64\n",
            "\n",
            "Data type: datetime64[ns]\n",
            "\n",
            "Missing values: 0\n",
            "\n",
            "Date range: 2024-06-27 14:27:10 to 2024-09-24 11:49:23\n"
          ]
        }
      ]
    },
    {
      "cell_type": "code",
      "source": [
        "df['Incident Reported at'] = pd.to_datetime(df['Incident Reported at'], errors='coerce')\n"
      ],
      "metadata": {
        "id": "WBJEccrgL6h7"
      },
      "execution_count": 68,
      "outputs": []
    },
    {
      "cell_type": "markdown",
      "source": [
        "## ACTION TAKEN BY COLUMN"
      ],
      "metadata": {
        "id": "FmbSuwLuMYP-"
      }
    },
    {
      "cell_type": "code",
      "source": [
        "inspect_columns('Action Taken By')"
      ],
      "metadata": {
        "colab": {
          "base_uri": "https://localhost:8080/"
        },
        "id": "sMKByhYXMLsu",
        "outputId": "eea21736-721d-4602-9a77-8d030db5176a"
      },
      "execution_count": 77,
      "outputs": [
        {
          "output_type": "stream",
          "name": "stdout",
          "text": [
            "\n",
            "Column: Action Taken By\n",
            "----------------------------------------\n",
            "Unique values: 115\n",
            "Value counts:\n",
            " Action Taken By\n",
            "NaN                 327\n",
            "Smt.Vani V Alva     165\n",
            "Keshava K            50\n",
            "Vasantha Poojary     27\n",
            "Leena Bitto          24\n",
            "                   ... \n",
            "Kashinatha            1\n",
            "Devaki                1\n",
            "Eo_Bantwal            1\n",
            "Pankaja               1\n",
            "Shrishail Donur       1\n",
            "Name: count, Length: 116, dtype: int64\n",
            "\n",
            "Data type: object\n",
            "\n",
            "Missing values: 327\n",
            "\n",
            "Max length: 26\n",
            "Sample values:\n",
            " ['Tulasi P' 'Sudhakar D' 'Poornima. J' 'Narayana B' 'Santhosh Patil']\n"
          ]
        }
      ]
    },
    {
      "cell_type": "code",
      "source": [
        "df['Action Taken By'] = df['Action Taken By'].str.strip().str.title()\n"
      ],
      "metadata": {
        "id": "rKO0evHrNFuS"
      },
      "execution_count": 76,
      "outputs": []
    },
    {
      "cell_type": "code",
      "source": [
        "import seaborn as sns\n",
        "import matplotlib.pyplot as plt\n",
        "\n",
        "sns.countplot(y=df['Action Taken By'], order=df['Action Taken By'].value_counts().index)\n",
        "plt.title(\"Action Taken By\")\n",
        "plt.show()"
      ],
      "metadata": {
        "colab": {
          "base_uri": "https://localhost:8080/",
          "height": 472
        },
        "id": "07swrCsCMmg9",
        "outputId": "abe48900-681b-4cb1-b7b8-a1f52b409558"
      },
      "execution_count": 78,
      "outputs": [
        {
          "output_type": "display_data",
          "data": {
            "text/plain": [
              "<Figure size 640x480 with 1 Axes>"
            ],
            "image/png": "[encoded data removed]"
          },
          "metadata": {}
        }
      ]
    },
    {
      "cell_type": "code",
      "source": [
        "non_latin_count, non_latin_records = check_non_latin_or_empty_and_show(df, 'Action Taken By')\n"
      ],
      "metadata": {
        "colab": {
          "base_uri": "https://localhost:8080/"
        },
        "id": "yfFupjfCMwI5",
        "outputId": "9a29988f-5931-4247-a900-89edef031507"
      },
      "execution_count": 79,
      "outputs": [
        {
          "output_type": "stream",
          "name": "stdout",
          "text": [
            "Non-Latin or empty values in 'Action Taken By': 327\n",
            "\n",
            "Sample of non-Latin or empty values:\n",
            "  Action Taken By\n",
            "0             NaN\n"
          ]
        }
      ]
    },
    {
      "cell_type": "markdown",
      "source": [
        "## ACTION REMARKS COLUMN\n"
      ],
      "metadata": {
        "id": "5mTzNX1DNLJA"
      }
    },
    {
      "cell_type": "code",
      "source": [
        "inspect_columns('Action Remarks')"
      ],
      "metadata": {
        "colab": {
          "base_uri": "https://localhost:8080/"
        },
        "id": "XbzgZwi8Njp4",
        "outputId": "ddd00d6c-aa9c-4714-95f3-dad98d15ade3"
      },
      "execution_count": 80,
      "outputs": [
        {
          "output_type": "stream",
          "name": "stdout",
          "text": [
            "\n",
            "Column: Action Remarks\n",
            "----------------------------------------\n",
            "Unique values: 417\n",
            "Value counts:\n",
            " Action Remarks\n",
            "NaN                                                                              452\n",
            "Attended                                                                          26\n",
            "Land Slide                                                                        24\n",
            "ಕೃತಕ ನೆರೆ                                                                         23\n",
            "Water logging                                                                     20\n",
            "                                                                                ... \n",
            "Road closed                                                                        1\n",
            "Tree felt on the electrical service wire at Subhash Nagara in Ullal CMC limit      1\n",
            "warned the residents to evacuate the Kalaji Centre.                                1\n",
            "test                                                                               1\n",
            "ಮನೆಯ ಒಂದು ಬದಿ ಗೋಡೆ ಕುಸಿತ                                                           1\n",
            "Name: count, Length: 418, dtype: int64\n",
            "\n",
            "Data type: object\n",
            "\n",
            "Missing values: 452\n",
            "\n",
            "Max length: 262\n",
            "Sample values:\n",
            " ['Visited to site'\n",
            " 'Due to heavy rain trees fallen across the Naravi Panal road it interrupted to the vehicle moving.'\n",
            " 'Attended and reported to hither officer '\n",
            " 'Kadabagilu bridge collapsed due to heavy rain.'\n",
            " 'Attended &informed to higher authority.']\n"
          ]
        }
      ]
    },
    {
      "cell_type": "code",
      "source": [
        "non_latin_count, non_latin_records = check_non_latin_or_empty_and_show(df, 'Action Remarks')"
      ],
      "metadata": {
        "colab": {
          "base_uri": "https://localhost:8080/"
        },
        "id": "aDMXHsMdNnP8",
        "outputId": "84d6af26-a082-4515-d093-175f28e113d3"
      },
      "execution_count": 83,
      "outputs": [
        {
          "output_type": "stream",
          "name": "stdout",
          "text": [
            "Non-Latin or empty values in 'Action Remarks': 634\n",
            "\n",
            "Sample of non-Latin or empty values:\n",
            "                                        Action Remarks\n",
            "0                                                  NaN\n",
            "17                        ತಡೆಗೋಡೆ ಕುಸಿದು ಬಿದ್ದಿರುತ್ತದೆ\n",
            "22   ಬಳ್ಪ ಗ್ರಾಮ ಪಂಚಾಯತ್ ವ್ಯಾಪ್ತಿಯ ಕೇನ್ಯ ಗ್ರಾಮದ ಪೇರಳ...\n",
            "28   ಸ್ಥಳಕ್ಕೆ ಅಧ್ಯಕ್ಷರು ಹಾಗೂ ವಾರ್ಡಿನ ಸದಸ್ಯರೊಂದಿಗೆ ಭ...\n",
            "50                 ರಸ್ತೆಗೆ ಅಡ್ಡಲಾಗಿ ಮರ ಬದ್ದಿರುವ ಬಗ್ಗೆ \n",
            "..                                                 ...\n",
            "940  ಬಂಟ್ವಾಳ ಪುರಸಭಾ ವ್ಯಾಪ್ತಿಯ ಪಾಣೆಮಂಗಳೂರು ಗ್ರಾಮದ ಆಲ...\n",
            "959  ರಸ್ತೆಗೆ ಬಿದ್ದ ಮರದ ಕೊಂಬೆಗಳನ್ನು ತೆರವುಗೊಳಿಸಲಾಗಿದೆ...\n",
            "962  ಅಪಾಯಕಾರಿ ಮರವಿದ್ದು ಮನೆಯ ಮೇಲೆ ಬಿದ್ದು ಹಾನಿಯಾಗುವ ಸಂಭವ\n",
            "969                             ಕಾರಿನ ಮೇಲೆ ಮರ ಬಿದ್ದಿದೆ\n",
            "972  ಸದ್ರಿ ದೂರಿನ ಬಗ್ಗೆ ದಿನಾಂಕ 16.07.24 ರಂದು ಗ್ರಾಮ ಪ...\n",
            "\n",
            "[100 rows x 1 columns]\n"
          ]
        }
      ]
    },
    {
      "cell_type": "code",
      "source": [
        "df = translate_kannada_column_inplace(df, 'Action Remarks')\n"
      ],
      "metadata": {
        "colab": {
          "base_uri": "https://localhost:8080/"
        },
        "id": "Rk2fhrz5NveH",
        "outputId": "59a3fce4-6723-4857-c33e-4e755825ad02"
      },
      "execution_count": 84,
      "outputs": [
        {
          "output_type": "stream",
          "name": "stdout",
          "text": [
            "\n",
            "✅ Total records changed in column 'Action Remarks': 634\n",
            "\n",
            "🔄 Sample of changed records:\n",
            "                        Original                Translated\n",
            "0                            NaN                       NaN\n",
            "2                            NaN                       NaN\n",
            "3                            NaN                       NaN\n",
            "8                            NaN                       NaN\n",
            "17  ತಡೆಗೋಡೆ ಕುಸಿದು ಬಿದ್ದಿರುತ್ತದೆ  The barrier is collapsed\n"
          ]
        }
      ]
    },
    {
      "cell_type": "code",
      "source": [
        "non_latin_count, non_latin_records = check_non_latin_or_empty_and_show(df, 'Action Remarks')"
      ],
      "metadata": {
        "colab": {
          "base_uri": "https://localhost:8080/"
        },
        "id": "I4UG2mYEN5IV",
        "outputId": "7e91cf4c-dcf2-467a-bc9f-9ea42a844a68"
      },
      "execution_count": 85,
      "outputs": [
        {
          "output_type": "stream",
          "name": "stdout",
          "text": [
            "Non-Latin or empty values in 'Action Remarks': 452\n",
            "\n",
            "Sample of non-Latin or empty values:\n",
            "  Action Remarks\n",
            "0            NaN\n"
          ]
        }
      ]
    },
    {
      "cell_type": "code",
      "source": [
        "inspect_columns(\"Time taken to take Action\")"
      ],
      "metadata": {
        "colab": {
          "base_uri": "https://localhost:8080/"
        },
        "id": "PTw0zE6EOkc_",
        "outputId": "1052f861-0551-4fc8-e73a-dcac342ee6c5"
      },
      "execution_count": 86,
      "outputs": [
        {
          "output_type": "stream",
          "name": "stdout",
          "text": [
            "\n",
            "Column: Time taken to take Action\n",
            "----------------------------------------\n",
            "Unique values: 461\n",
            "Value counts:\n",
            " Time taken to take Action\n",
            "NaN             305\n",
            "0h 0m 26s        10\n",
            "0h 0m 22s        10\n",
            "0h 0m 44s         9\n",
            "0h 0m 58s         9\n",
            "               ... \n",
            "0h 11m 48s        1\n",
            "1h 6m 8s          1\n",
            "0h 25m 54s        1\n",
            "0h 29m 57s        1\n",
            "116h 59m 43s      1\n",
            "Name: count, Length: 462, dtype: int64\n",
            "\n",
            "Data type: object\n",
            "\n",
            "Missing values: 305\n",
            "\n",
            "Max length: 12\n",
            "Sample values:\n",
            " ['0h 1m 35s' '0h 6m 53s' '0h 1m 19s' '0h 6m 6s' '0h 29m 57s']\n"
          ]
        }
      ]
    },
    {
      "cell_type": "code",
      "source": [
        "inspect_columns(\"Closed By Officer\")"
      ],
      "metadata": {
        "colab": {
          "base_uri": "https://localhost:8080/"
        },
        "id": "aWpMJyeyO4F3",
        "outputId": "d184973e-5853-4e07-f74d-555c18347a08"
      },
      "execution_count": 87,
      "outputs": [
        {
          "output_type": "stream",
          "name": "stdout",
          "text": [
            "\n",
            "Column: Closed By Officer\n",
            "----------------------------------------\n",
            "Unique values: 86\n",
            "Value counts:\n",
            " Closed By Officer\n",
            "NaN                663\n",
            "Smt.Vani V Alva    149\n",
            "Mathadi             19\n",
            "Sandhya Laxmi       14\n",
            "Leena Bitto         14\n",
            "                  ... \n",
            "Chandravathi         1\n",
            "PANKAJA              1\n",
            "SOWMYA M.S           1\n",
            "Subbaih K P          1\n",
            "Shrishail Donur      1\n",
            "Name: count, Length: 87, dtype: int64\n",
            "\n",
            "Data type: object\n",
            "\n",
            "Missing values: 663\n",
            "\n",
            "Max length: 26\n",
            "Sample values:\n",
            " ['Tulasi P' 'Sudhakar D' 'Poornima. J' 'NARAYANA B' 'Santhosh Patil']\n"
          ]
        }
      ]
    },
    {
      "cell_type": "code",
      "source": [
        "non_latin_count, non_latin_records = check_non_latin_or_empty_and_show(df, 'Closed By Officer')"
      ],
      "metadata": {
        "colab": {
          "base_uri": "https://localhost:8080/"
        },
        "id": "ar-5xs7QPKrj",
        "outputId": "1ba28276-389f-448f-a511-2f9650b4b608"
      },
      "execution_count": 91,
      "outputs": [
        {
          "output_type": "stream",
          "name": "stdout",
          "text": [
            "Non-Latin or empty values in 'Closed By Officer': 663\n",
            "\n",
            "Sample of non-Latin or empty values:\n",
            "  Closed By Officer\n",
            "0               NaN\n"
          ]
        }
      ]
    },
    {
      "cell_type": "code",
      "source": [
        "df['Closed By Officer'] = df['Closed By Officer'].str.strip().str.title()\n"
      ],
      "metadata": {
        "id": "_yD0KGH_PO_n"
      },
      "execution_count": 90,
      "outputs": []
    },
    {
      "cell_type": "markdown",
      "source": [
        "## CLOSED REMARKS COLUMN"
      ],
      "metadata": {
        "id": "r90--BOYQXRQ"
      }
    },
    {
      "cell_type": "code",
      "source": [
        "inspect_columns(\"Closed Remarks\")"
      ],
      "metadata": {
        "colab": {
          "base_uri": "https://localhost:8080/"
        },
        "id": "ERr-JzmJPZgD",
        "outputId": "e8d225b8-30f9-4c52-f278-91c06e300ee1"
      },
      "execution_count": 95,
      "outputs": [
        {
          "output_type": "stream",
          "name": "stdout",
          "text": [
            "\n",
            "Column: Closed Remarks\n",
            "----------------------------------------\n",
            "Unique values: 291\n",
            "Value counts:\n",
            " Closed Remarks\n",
            "NaN                                                                                                      642\n",
            "ಅಪಾಯಕಾರಿ ಮರವನ್ನು ತೆರವುಗೊಳಿಸಲಾಯಿತು                                                                         19\n",
            "ಚರಂಡಿಯಲ್ಲಿರುವ ಹೂಳನ್ನು ತೆಗೆದು ನೀರು ಹರಿದು ಹೋಗುವ ವ್ಯವಸ್ಥೆ ಮಾಡಲಾಗಿದೆ                                          17\n",
            "ಮಳೆ ಕಡಿಮೆಯಾದ ಸಂಧರ್ಭದಲ್ಲಿ ಕೃತಕ ನೆರೆಯು ತಾನಾಗಿಯೇ ಹರಿದುಹೋಗಿರುತ್ತದೆ.                                           10\n",
            "Cleared                                                                                                   10\n",
            "                                                                                                        ... \n",
            "Close                                                                                                      1\n",
            "ಮಳೆಯಿಂದಾಗಿ ರಸ್ತೆ ಹದಗೆಟ್ಟಿರುವುದರಿಂದ ರಸ್ತೆಗಳ ಹೊಂಡಗಳನ್ನು ಕಲ್ಲು ತುಂಡು ಹಾಗೂ ಮಣ್ಣು  ಹಾಕಿ ದುರಸ್ತಿಗೊಳಿಸಲಾಯಿತು      1\n",
            "The soil has been leveled.                                                                                 1\n",
            "For public it is not concern.                                                                              1\n",
            "Action taken                                                                                               1\n",
            "Name: count, Length: 292, dtype: int64\n",
            "\n",
            "Data type: object\n",
            "\n",
            "Missing values: 642\n",
            "\n",
            "Max length: 194\n",
            "Sample values:\n",
            " ['ಪಂಚಾಯತ್ ವತಿಯಿಂದ ಹೂಳನ್ನು ತೆರವುಗೊಳಿಸಲಾಗಿರುತ್ತದೆ'\n",
            " 'Fallen trees removed by machinary &manual labour.' 'Attended '\n",
            " 'Put barricade and  displayed road closed banner and asked to the citizens to use alternative nursery Alamba road'\n",
            " 'Temporary footbridge constructed &connectivity done']\n"
          ]
        }
      ]
    },
    {
      "cell_type": "code",
      "source": [
        "non_latin_count, non_latin_records = check_non_latin_or_empty_and_show(df, 'Closed Remarks')"
      ],
      "metadata": {
        "colab": {
          "base_uri": "https://localhost:8080/"
        },
        "id": "g74rAT-dPhCS",
        "outputId": "7957550a-e56c-463d-e91c-383d76c1d184"
      },
      "execution_count": 97,
      "outputs": [
        {
          "output_type": "stream",
          "name": "stdout",
          "text": [
            "Non-Latin or empty values in 'Closed Remarks': 839\n",
            "\n",
            "Sample of non-Latin or empty values:\n",
            "                                         Closed Remarks\n",
            "0                                                   NaN\n",
            "1         ಪಂಚಾಯತ್ ವತಿಯಿಂದ ಹೂಳನ್ನು ತೆರವುಗೊಳಿಸಲಾಗಿರುತ್ತದೆ\n",
            "15                             ವಿದ್ಯುತ್ ಲೈನ್ ಸರಿಪಡಿಸಿದೆ\n",
            "18                   ತಾತ್ಕಾಲಿಕವಾಗಿ ಟರ್ಪಾಲ್ ಅಳವಡಿಸಲಾಗಿದೆ\n",
            "19    ತಾತ್ಕಾಲಿಕವಾಗಿ ಅಂಗನವಾಡಿ ಮಕ್ಕಳ ಪೋಷಕರು ಮಣ್ಣು ತೆರವ...\n",
            "...                                                 ...\n",
            "1039  ನಗರಸಭೆಯ ಜೆಸಿಬಿಯನ್ನು ಬಳಸಿ ಪೌರಕಾರ್ಮಿಕರ ಸಹಾಯದಿಂದ ...\n",
            "1057  ಮನೆಯಲ್ಲಿ ವಾಸಿಸುವವರಿಗೆ ಎಚ್ಚರಿಕೆ ನೀಡಿದಂತೆ ಹತ್ತಿರ...\n",
            "1061  ಸಮುದ್ರದ ಅಲೆಗಳು ಗೋಡೆಗೆ ಹೊಡೆದು ನೀರು ಮನೆಯ ಮುಂದೆ ಶ...\n",
            "1062  ಅಕ್ಕರೆಕರೆ ಪಟೇಲ್‌ ಕಂಪೌಂಡ್‌ ಬಳಿ ಗುಡ್ಡ ಜರಿದು ಮನೆಗ...\n",
            "1072  ಮನೆಯಲ್ಲಿ ವಾಸಿಸುವವರಿಗೆ ಎಚ್ಚರಿಕೆ ನೀಡಿ ಹತ್ತಿರದ ಸಂ...\n",
            "\n",
            "[100 rows x 1 columns]\n"
          ]
        }
      ]
    },
    {
      "cell_type": "code",
      "source": [
        "df = translate_kannada_column_inplace(df, 'Closed Remarks')\n"
      ],
      "metadata": {
        "colab": {
          "base_uri": "https://localhost:8080/"
        },
        "id": "XMZ8XU25PtpU",
        "outputId": "2acb7e07-b335-4b44-be5a-b573309f2426"
      },
      "execution_count": 98,
      "outputs": [
        {
          "output_type": "stream",
          "name": "stdout",
          "text": [
            "\n",
            "✅ Total records changed in column 'Closed Remarks': 839\n",
            "\n",
            "🔄 Sample of changed records:\n",
            "                                         Original  \\\n",
            "0                                             NaN   \n",
            "1   ಪಂಚಾಯತ್ ವತಿಯಿಂದ ಹೂಳನ್ನು ತೆರವುಗೊಳಿಸಲಾಗಿರುತ್ತದೆ   \n",
            "2                                             NaN   \n",
            "3                                             NaN   \n",
            "15                       ವಿದ್ಯುತ್ ಲೈನ್ ಸರಿಪಡಿಸಿದೆ   \n",
            "\n",
            "                                Translated  \n",
            "0                                      NaN  \n",
            "1   The sludge is cleared by the panchayat  \n",
            "2                                      NaN  \n",
            "3                                      NaN  \n",
            "15                The power line corrected  \n"
          ]
        }
      ]
    },
    {
      "cell_type": "code",
      "source": [
        "non_latin_count, non_latin_records = check_non_latin_or_empty_and_show(df, 'Closed Remarks')"
      ],
      "metadata": {
        "colab": {
          "base_uri": "https://localhost:8080/"
        },
        "id": "NHb-UodcP0BQ",
        "outputId": "094451f8-9378-4700-ee84-96129d527e06"
      },
      "execution_count": 99,
      "outputs": [
        {
          "output_type": "stream",
          "name": "stdout",
          "text": [
            "Non-Latin or empty values in 'Closed Remarks': 642\n",
            "\n",
            "Sample of non-Latin or empty values:\n",
            "  Closed Remarks\n",
            "0            NaN\n"
          ]
        }
      ]
    },
    {
      "cell_type": "code",
      "source": [
        "inspect_columns('Time taken to Close')"
      ],
      "metadata": {
        "colab": {
          "base_uri": "https://localhost:8080/"
        },
        "id": "8BSeTG2mQWRk",
        "outputId": "3355c6d0-24c6-4fbc-da5c-299b23a390a0"
      },
      "execution_count": 100,
      "outputs": [
        {
          "output_type": "stream",
          "name": "stdout",
          "text": [
            "\n",
            "Column: Time taken to Close\n",
            "----------------------------------------\n",
            "Unique values: 414\n",
            "Value counts:\n",
            " Time taken to Close\n",
            "NaN            625\n",
            "0h 1m 9s         6\n",
            "0h 1m 49s        5\n",
            "0h 1m 20s        3\n",
            "0h 2m 58s        3\n",
            "              ... \n",
            "66h 45m 3s       1\n",
            "19h 35m 51s      1\n",
            "0h 24m 2s        1\n",
            "0h 4m 37s        1\n",
            "0h 9m 30s        1\n",
            "Name: count, Length: 415, dtype: int64\n",
            "\n",
            "Data type: object\n",
            "\n",
            "Missing values: 625\n",
            "\n",
            "Max length: 12\n",
            "Sample values:\n",
            " ['0h 14m 13s' '0h 9m 17s' '0h 1m 55s' '0h 10m 53s' '0h 51m 30s']\n"
          ]
        }
      ]
    },
    {
      "cell_type": "code",
      "source": [
        "# Check the condition for missing or filled values\n",
        "both_empty = df[df['Time taken to take Action'].isna() & df['Time taken to Close'].isna()]\n",
        "one_empty_one_filled = df[(df['Time taken to take Action'].isna() & df['Time taken to Close'].notna()) |\n",
        "                           (df['Time taken to take Action'].notna() & df['Time taken to Close'].isna())]\n",
        "both_filled = df[df['Time taken to take Action'].notna() & df['Time taken to Close'].notna()]\n",
        "\n",
        "# Output counts\n",
        "print(f\"✅ Both Time taken to take Action and Time taken to Close are empty: {len(both_empty)}\")\n",
        "print(f\"✅ One empty, one filled: {len(one_empty_one_filled)}\")\n",
        "print(f\"✅ Both filled: {len(both_filled)}\")\n",
        "\n",
        "# Show sample for each case\n",
        "print(\"\\n🔄 Sample of records where both are empty:\")\n",
        "print(both_empty.head(2))  # Adjust the number to display more samples\n",
        "\n",
        "print(\"\\n🔄 Sample of records where one is empty and the other is filled:\")\n",
        "print(one_empty_one_filled.head(2))\n",
        "\n",
        "print(\"\\n🔄 Sample of records where both are filled:\")\n",
        "print(both_filled.head(2))"
      ],
      "metadata": {
        "colab": {
          "base_uri": "https://localhost:8080/"
        },
        "id": "7BUdEdMBQg37",
        "outputId": "a5cc0944-fef8-4941-d745-3a6df3ccb854"
      },
      "execution_count": 101,
      "outputs": [
        {
          "output_type": "stream",
          "name": "stdout",
          "text": [
            "✅ Both Time taken to take Action and Time taken to Close are empty: 295\n",
            "✅ One empty, one filled: 340\n",
            "✅ Both filled: 483\n",
            "\n",
            "🔄 Sample of records where both are empty:\n",
            "   Sl. No. Incident Type                                    Location   Taluk  \\\n",
            "0        1        Others  Government Senior Primary School Beleringe  Ullala   \n",
            "2        3        Others                                     Meenadi  Ullala   \n",
            "\n",
            "  Information Received From   Received Date/Time Incident Reported at  \\\n",
            "0          Pdo (9480862507)  2024-12-08 20:30:01  2024-08-12 20:34:46   \n",
            "2          PDO (9480862507)  2024-12-08 16:15:31  2024-08-12 16:22:38   \n",
            "\n",
            "  Action Taken By Action Date/Time Action Remarks  ... Closed By Officer  \\\n",
            "0             NaN              NaN            NaN  ...               NaN   \n",
            "2             NaN              NaN            NaN  ...               NaN   \n",
            "\n",
            "  Closed At Closed Remarks Time taken to Close Photo Before  Photo After  \\\n",
            "0       NaN            NaN                 NaN          NaN          NaN   \n",
            "2       NaN            NaN                 NaN          NaN          NaN   \n",
            "\n",
            "                          Location_translated translation_changed  \\\n",
            "0  Government Senior Primary School Beleringe                True   \n",
            "2                                     Meenadi               False   \n",
            "\n",
            "   Info_Source  Info_Phone  \n",
            "0          PDO  9480862507  \n",
            "2          PDO  9480862507  \n",
            "\n",
            "[2 rows x 21 columns]\n",
            "\n",
            "🔄 Sample of records where one is empty and the other is filled:\n",
            "    Sl. No. Incident Type        Location        Taluk  \\\n",
            "17       18     Landslide  Halekote Gudde       Ullala   \n",
            "23       24     Landslide           Venur  Belthangady   \n",
            "\n",
            "      Information Received From   Received Date/Time Incident Reported at  \\\n",
            "17  ward Concillor (9686263278)  2024-09-24 11:47:07  2024-09-24 11:49:23   \n",
            "23          Dinesh (9481443109)  2024-09-08 17:12:14  2024-08-09 17:13:47   \n",
            "\n",
            "      Action Taken By     Action Date/Time            Action Remarks  ...  \\\n",
            "17    Smt.Vani V Alva  2024-09-24 11:50:29  The barrier is collapsed  ...   \n",
            "23  Raghavendra Patil  2024-08-09 17:14:18                       NaN  ...   \n",
            "\n",
            "   Closed By Officer Closed At Closed Remarks Time taken to Close  \\\n",
            "17               NaN       NaN            NaN                 NaN   \n",
            "23               NaN       NaN            NaN                 NaN   \n",
            "\n",
            "   Photo Before  Photo After  Location_translated translation_changed  \\\n",
            "17          NaN          NaN       Halekote Gudde               False   \n",
            "23          NaN          NaN                Venur               False   \n",
            "\n",
            "       Info_Source  Info_Phone  \n",
            "17  WARD CONCILLOR  9686263278  \n",
            "23          DINESH  9481443109  \n",
            "\n",
            "[2 rows x 21 columns]\n",
            "\n",
            "🔄 Sample of records where both are filled:\n",
            "   Sl. No. Incident Type                            Location        Taluk  \\\n",
            "1        2        Others  Kindi Dam in Majalu, Kinya village       Ullala   \n",
            "4        5   Tree fallen             Naravi to Panal zp road  Belthangady   \n",
            "\n",
            "  Information Received From   Received Date/Time Incident Reported at  \\\n",
            "1       Member (9448152551)  2024-12-08 16:23:29  2024-08-12 16:32:39   \n",
            "4          PDO (9480862231)  2024-12-08 15:21:34  2024-08-12 15:24:44   \n",
            "\n",
            "  Action Taken By     Action Date/Time  \\\n",
            "1        Tulasi P  2024-08-12 16:34:14   \n",
            "4      Sudhakar D  2024-08-12 15:31:37   \n",
            "\n",
            "                                      Action Remarks  ... Closed By Officer  \\\n",
            "1                                    Visited to site  ...          Tulasi P   \n",
            "4  Due to heavy rain trees fallen across the Nara...  ...        Sudhakar D   \n",
            "\n",
            "             Closed At                                     Closed Remarks  \\\n",
            "1  2024-08-12 16:46:52             The sludge is cleared by the panchayat   \n",
            "4  2024-08-12 15:34:01  Fallen trees removed by machinary &manual labour.   \n",
            "\n",
            "  Time taken to Close Photo Before  Photo After  \\\n",
            "1          0h 14m 13s          NaN          NaN   \n",
            "4           0h 9m 17s          NaN          NaN   \n",
            "\n",
            "                  Location_translated translation_changed  Info_Source  \\\n",
            "1  Kindi Dam in Majalu, Kinya village                True       MEMBER   \n",
            "4             Naravi to Panal zp road               False          PDO   \n",
            "\n",
            "   Info_Phone  \n",
            "1  9448152551  \n",
            "4  9480862231  \n",
            "\n",
            "[2 rows x 21 columns]\n"
          ]
        }
      ]
    },
    {
      "cell_type": "code",
      "source": [
        "print(\"Shape:\", df.shape)\n",
        "print(\"\\nColumns:\\n\", df.columns)\n",
        "print(\"\\nInfo:\")\n",
        "df.info()\n",
        "print(\"\\nMissing values:\\n\", df.isnull().sum())\n",
        "print(\"\\nDuplicates:\", df.duplicated().sum())\n"
      ],
      "metadata": {
        "colab": {
          "base_uri": "https://localhost:8080/"
        },
        "id": "_rSe_ZECQ_5W",
        "outputId": "f034329f-a8b4-40af-9a80-350823cbe454"
      },
      "execution_count": 106,
      "outputs": [
        {
          "output_type": "stream",
          "name": "stdout",
          "text": [
            "Shape: (1118, 21)\n",
            "\n",
            "Columns:\n",
            " Index(['Sl. No.', 'Incident Type', 'Location', 'Taluk',\n",
            "       'Information Received From', 'Received Date/Time',\n",
            "       'Incident Reported at', 'Action Taken By', 'Action Date/Time',\n",
            "       'Action Remarks', 'Time taken to take Action', 'Closed By Officer',\n",
            "       'Closed At', 'Closed Remarks', 'Time taken to Close', 'Photo Before',\n",
            "       'Photo After', 'Location_translated', 'translation_changed',\n",
            "       'Info_Source', 'Info_Phone'],\n",
            "      dtype='object')\n",
            "\n",
            "Info:\n",
            "<class 'pandas.core.frame.DataFrame'>\n",
            "RangeIndex: 1118 entries, 0 to 1117\n",
            "Data columns (total 21 columns):\n",
            " #   Column                     Non-Null Count  Dtype         \n",
            "---  ------                     --------------  -----         \n",
            " 0   Sl. No.                    1118 non-null   int64         \n",
            " 1   Incident Type              1118 non-null   object        \n",
            " 2   Location                   1118 non-null   object        \n",
            " 3   Taluk                      1118 non-null   object        \n",
            " 4   Information Received From  1118 non-null   object        \n",
            " 5   Received Date/Time         1118 non-null   object        \n",
            " 6   Incident Reported at       1118 non-null   datetime64[ns]\n",
            " 7   Action Taken By            791 non-null    object        \n",
            " 8   Action Date/Time           813 non-null    object        \n",
            " 9   Action Remarks             666 non-null    object        \n",
            " 10  Time taken to take Action  813 non-null    object        \n",
            " 11  Closed By Officer          455 non-null    object        \n",
            " 12  Closed At                  493 non-null    object        \n",
            " 13  Closed Remarks             476 non-null    object        \n",
            " 14  Time taken to Close        493 non-null    object        \n",
            " 15  Photo Before               0 non-null      float64       \n",
            " 16  Photo After                0 non-null      float64       \n",
            " 17  Location_translated        1112 non-null   object        \n",
            " 18  translation_changed        1118 non-null   bool          \n",
            " 19  Info_Source                1118 non-null   object        \n",
            " 20  Info_Phone                 1118 non-null   object        \n",
            "dtypes: bool(1), datetime64[ns](1), float64(2), int64(1), object(16)\n",
            "memory usage: 175.9+ KB\n",
            "\n",
            "Missing values:\n",
            " Sl. No.                         0\n",
            "Incident Type                   0\n",
            "Location                        0\n",
            "Taluk                           0\n",
            "Information Received From       0\n",
            "Received Date/Time              0\n",
            "Incident Reported at            0\n",
            "Action Taken By               327\n",
            "Action Date/Time              305\n",
            "Action Remarks                452\n",
            "Time taken to take Action     305\n",
            "Closed By Officer             663\n",
            "Closed At                     625\n",
            "Closed Remarks                642\n",
            "Time taken to Close           625\n",
            "Photo Before                 1118\n",
            "Photo After                  1118\n",
            "Location_translated             6\n",
            "translation_changed             0\n",
            "Info_Source                     0\n",
            "Info_Phone                      0\n",
            "dtype: int64\n",
            "\n",
            "Duplicates: 0\n"
          ]
        }
      ]
    },
    {
      "cell_type": "code",
      "source": [
        "\n",
        "# If you want to ensure the column is deleted in-place, you can do this:\n",
        "df.drop(columns=['Location_translated', 'translation_changed', 'Information Received From'], inplace=True, errors='ignore')\n",
        "\n",
        "\n"
      ],
      "metadata": {
        "id": "s4bcfLk0ROlU"
      },
      "execution_count": 113,
      "outputs": []
    },
    {
      "cell_type": "code",
      "source": [
        "print(df.columns)"
      ],
      "metadata": {
        "colab": {
          "base_uri": "https://localhost:8080/"
        },
        "id": "TLlSPP_2R0vh",
        "outputId": "145a0646-256d-4123-914e-ffc948ae04a0"
      },
      "execution_count": 114,
      "outputs": [
        {
          "output_type": "stream",
          "name": "stdout",
          "text": [
            "Index(['Sl. No.', 'Incident Type', 'Location', 'Taluk', 'Received Date/Time',\n",
            "       'Incident Reported at', 'Action Taken By', 'Action Date/Time',\n",
            "       'Action Remarks', 'Time taken to take Action', 'Closed By Officer',\n",
            "       'Closed At', 'Closed Remarks', 'Time taken to Close', 'Photo Before',\n",
            "       'Photo After', 'Info_Source', 'Info_Phone'],\n",
            "      dtype='object')\n"
          ]
        }
      ]
    },
    {
      "cell_type": "code",
      "source": [
        "print(\"Shape:\", df.shape)\n",
        "print(\"\\nColumns:\\n\", df.columns)\n",
        "print(\"\\nInfo:\")\n",
        "df.info()\n",
        "print(\"\\nMissing values:\\n\", df.isnull().sum())\n",
        "print(\"\\nDuplicates:\", df.duplicated().sum())\n"
      ],
      "metadata": {
        "colab": {
          "base_uri": "https://localhost:8080/"
        },
        "id": "vK8jZiopSMSb",
        "outputId": "3c0c3c35-280d-4e54-f491-ea3a2e2e6dee"
      },
      "execution_count": 115,
      "outputs": [
        {
          "output_type": "stream",
          "name": "stdout",
          "text": [
            "Shape: (1118, 18)\n",
            "\n",
            "Columns:\n",
            " Index(['Sl. No.', 'Incident Type', 'Location', 'Taluk', 'Received Date/Time',\n",
            "       'Incident Reported at', 'Action Taken By', 'Action Date/Time',\n",
            "       'Action Remarks', 'Time taken to take Action', 'Closed By Officer',\n",
            "       'Closed At', 'Closed Remarks', 'Time taken to Close', 'Photo Before',\n",
            "       'Photo After', 'Info_Source', 'Info_Phone'],\n",
            "      dtype='object')\n",
            "\n",
            "Info:\n",
            "<class 'pandas.core.frame.DataFrame'>\n",
            "RangeIndex: 1118 entries, 0 to 1117\n",
            "Data columns (total 18 columns):\n",
            " #   Column                     Non-Null Count  Dtype         \n",
            "---  ------                     --------------  -----         \n",
            " 0   Sl. No.                    1118 non-null   int64         \n",
            " 1   Incident Type              1118 non-null   object        \n",
            " 2   Location                   1118 non-null   object        \n",
            " 3   Taluk                      1118 non-null   object        \n",
            " 4   Received Date/Time         1118 non-null   object        \n",
            " 5   Incident Reported at       1118 non-null   datetime64[ns]\n",
            " 6   Action Taken By            791 non-null    object        \n",
            " 7   Action Date/Time           813 non-null    object        \n",
            " 8   Action Remarks             666 non-null    object        \n",
            " 9   Time taken to take Action  813 non-null    object        \n",
            " 10  Closed By Officer          455 non-null    object        \n",
            " 11  Closed At                  493 non-null    object        \n",
            " 12  Closed Remarks             476 non-null    object        \n",
            " 13  Time taken to Close        493 non-null    object        \n",
            " 14  Photo Before               0 non-null      float64       \n",
            " 15  Photo After                0 non-null      float64       \n",
            " 16  Info_Source                1118 non-null   object        \n",
            " 17  Info_Phone                 1118 non-null   object        \n",
            "dtypes: datetime64[ns](1), float64(2), int64(1), object(14)\n",
            "memory usage: 157.3+ KB\n",
            "\n",
            "Missing values:\n",
            " Sl. No.                         0\n",
            "Incident Type                   0\n",
            "Location                        0\n",
            "Taluk                           0\n",
            "Received Date/Time              0\n",
            "Incident Reported at            0\n",
            "Action Taken By               327\n",
            "Action Date/Time              305\n",
            "Action Remarks                452\n",
            "Time taken to take Action     305\n",
            "Closed By Officer             663\n",
            "Closed At                     625\n",
            "Closed Remarks                642\n",
            "Time taken to Close           625\n",
            "Photo Before                 1118\n",
            "Photo After                  1118\n",
            "Info_Source                     0\n",
            "Info_Phone                      0\n",
            "dtype: int64\n",
            "\n",
            "Duplicates: 0\n"
          ]
        }
      ]
    },
    {
      "cell_type": "code",
      "source": [
        "from google.colab import files\n",
        "\n",
        "# Save your DataFrame to CSV\n",
        "df.to_csv(\"modified_dataset.csv\", index=False)\n",
        "\n",
        "# Download the CSV file\n",
        "files.download(\"modified_dataset.csv\")\n"
      ],
      "metadata": {
        "colab": {
          "base_uri": "https://localhost:8080/",
          "height": 17
        },
        "id": "fV7daPFhSnII",
        "outputId": "dc581195-9b07-45f1-df6e-1546fa4ffd17"
      },
      "execution_count": 116,
      "outputs": [
        {
          "output_type": "display_data",
          "data": {
            "text/plain": [
              "<IPython.core.display.Javascript object>"
            ],
            "application/javascript": [
              "\n",
              "    async function download(id, filename, size) {\n",
              "      if (!google.colab.kernel.accessAllowed) {\n",
              "        return;\n",
              "      }\n",
              "      const div = document.createElement('div');\n",
              "      const label = document.createElement('label');\n",
              "      label.textContent = `Downloading \"${filename}\": `;\n",
              "      div.appendChild(label);\n",
              "      const progress = document.createElement('progress');\n",
              "      progress.max = size;\n",
              "      div.appendChild(progress);\n",
              "      document.body.appendChild(div);\n",
              "\n",
              "      const buffers = [];\n",
              "      let downloaded = 0;\n",
              "\n",
              "      const channel = await google.colab.kernel.comms.open(id);\n",
              "      // Send a message to notify the kernel that we're ready.\n",
              "      channel.send({})\n",
              "\n",
              "      for await (const message of channel.messages) {\n",
              "        // Send a message to notify the kernel that we're ready.\n",
              "        channel.send({})\n",
              "        if (message.buffers) {\n",
              "          for (const buffer of message.buffers) {\n",
              "            buffers.push(buffer);\n",
              "            downloaded += buffer.byteLength;\n",
              "            progress.value = downloaded;\n",
              "          }\n",
              "        }\n",
              "      }\n",
              "      const blob = new Blob(buffers, {type: 'application/binary'});\n",
              "      const a = document.createElement('a');\n",
              "      a.href = window.URL.createObjectURL(blob);\n",
              "      a.download = filename;\n",
              "      div.appendChild(a);\n",
              "      a.click();\n",
              "      div.remove();\n",
              "    }\n",
              "  "
            ]
          },
          "metadata": {}
        },
        {
          "output_type": "display_data",
          "data": {
            "text/plain": [
              "<IPython.core.display.Javascript object>"
            ],
            "application/javascript": [
              "download(\"download_05a9f379-e4e2-4940-8650-47065185e9e1\", \"modified_dataset.csv\", 229869)"
            ]
          },
          "metadata": {}
        }
      ]
    },
    {
      "cell_type": "code",
      "source": [
        "# Assuming inspect_column is already defined\n",
        "for col in df.columns:\n",
        "    print(f\"\\nInspecting Column: {col}\")\n",
        "    print(\"-\" * 40)\n",
        "    inspect_columns(col)\n"
      ],
      "metadata": {
        "colab": {
          "base_uri": "https://localhost:8080/"
        },
        "id": "J0AOhgyMTAT2",
        "outputId": "06f5594e-388d-4a60-bb4a-51a5c3bd3f75"
      },
      "execution_count": 118,
      "outputs": [
        {
          "output_type": "stream",
          "name": "stdout",
          "text": [
            "\n",
            "Inspecting Column: Sl. No.\n",
            "----------------------------------------\n",
            "\n",
            "Column: Sl. No.\n",
            "----------------------------------------\n",
            "Unique values: 1118\n",
            "Value counts:\n",
            " Sl. No.\n",
            "1118    1\n",
            "1       1\n",
            "2       1\n",
            "3       1\n",
            "4       1\n",
            "       ..\n",
            "19      1\n",
            "18      1\n",
            "17      1\n",
            "16      1\n",
            "15      1\n",
            "Name: count, Length: 1118, dtype: int64\n",
            "\n",
            "Data type: int64\n",
            "\n",
            "Missing values: 0\n",
            "\n",
            "Describe:\n",
            " count    1118.000000\n",
            "mean      559.500000\n",
            "std       322.883106\n",
            "min         1.000000\n",
            "25%       280.250000\n",
            "50%       559.500000\n",
            "75%       838.750000\n",
            "max      1118.000000\n",
            "Name: Sl. No., dtype: float64\n",
            "\n",
            "Inspecting Column: Incident Type\n",
            "----------------------------------------\n",
            "\n",
            "Column: Incident Type\n",
            "----------------------------------------\n",
            "Unique values: 14\n",
            "Value counts:\n",
            " Incident Type\n",
            "Landslide                     559\n",
            "Tree fallen                   134\n",
            "Others                         72\n",
            "Building collapse              67\n",
            "Mud slip                       60\n",
            "Water logging                  58\n",
            "Flood                          50\n",
            "Bridge collapse                36\n",
            "Road cut off                   34\n",
            "Soil Erosion                   22\n",
            "Electrical Poles fall down     20\n",
            "Sea Erosion                     3\n",
            "Road Accident                   2\n",
            "Snake bite                      1\n",
            "Name: count, dtype: int64\n",
            "\n",
            "Data type: object\n",
            "\n",
            "Missing values: 0\n",
            "\n",
            "Max length: 26\n",
            "Sample values:\n",
            " ['Others' 'Landslide' 'Tree fallen' 'Flood' 'Bridge collapse']\n",
            "\n",
            "Inspecting Column: Location\n",
            "----------------------------------------\n",
            "\n",
            "Column: Location\n",
            "----------------------------------------\n",
            "Unique values: 906\n",
            "Value counts:\n",
            " Location\n",
            "12.692778 75.377586            9\n",
            "Chembugudde                    8\n",
            "Halekote                       7\n",
            "Shirlalu                       7\n",
            "BantwalMooda                   6\n",
            "                              ..\n",
            "padubailu sulkerimogru         1\n",
            "okkala sulkerimogru            1\n",
            "Mavinaktte Marodi              1\n",
            "Keelampadi bettampady grama    1\n",
            "Padnooru                       1\n",
            "Name: count, Length: 906, dtype: int64\n",
            "\n",
            "Data type: object\n",
            "\n",
            "Missing values: 0\n",
            "\n",
            "Max length: 120\n",
            "Sample values:\n",
            " ['Government Senior Primary School Beleringe'\n",
            " 'Kindi Dam in Majalu, Kinya village' 'Meenadi'\n",
            " 'Near Kinya Grama Panchayath office' 'Naravi to Panal zp road']\n",
            "\n",
            "Inspecting Column: Taluk\n",
            "----------------------------------------\n",
            "\n",
            "Column: Taluk\n",
            "----------------------------------------\n",
            "Unique values: 10\n",
            "Value counts:\n",
            " Taluk\n",
            "Ullala                        320\n",
            "Belthangady                   274\n",
            "Buntwal                       169\n",
            "Sullia                        111\n",
            "Puttur                         82\n",
            "Kadaba                         81\n",
            "Mangaluru                      25\n",
            "Mulki                          21\n",
            "Mangaluru City Corporation     21\n",
            "Mudabidri                      14\n",
            "Name: count, dtype: int64\n",
            "\n",
            "Data type: object\n",
            "\n",
            "Missing values: 0\n",
            "\n",
            "Max length: 26\n",
            "Sample values:\n",
            " ['Ullala' 'Belthangady' 'Kadaba' 'Sullia' 'Buntwal']\n",
            "\n",
            "Inspecting Column: Received Date/Time\n",
            "----------------------------------------\n",
            "\n",
            "Column: Received Date/Time\n",
            "----------------------------------------\n",
            "Unique values: 1094\n",
            "Value counts:\n",
            " Received Date/Time\n",
            "2024-08-12 16:23:35    4\n",
            "2024-08-12 14:05:59    2\n",
            "2024-08-30 15:07:41    2\n",
            "2024-08-16 16:29:36    2\n",
            "2024-08-14 16:05:54    2\n",
            "                      ..\n",
            "2024-08-14 14:06:43    1\n",
            "2024-08-14 14:06:58    1\n",
            "2024-08-14 14:07:13    1\n",
            "2024-08-14 14:07:55    1\n",
            "2024-08-14 13:56:06    1\n",
            "Name: count, Length: 1094, dtype: int64\n",
            "\n",
            "Data type: object\n",
            "\n",
            "Missing values: 0\n",
            "\n",
            "Max length: 19\n",
            "Sample values:\n",
            " ['2024-12-08 20:30:01' '2024-12-08 16:23:29' '2024-12-08 16:15:31'\n",
            " '2024-12-08 15:59:10' '2024-12-08 15:21:34']\n",
            "\n",
            "Inspecting Column: Incident Reported at\n",
            "----------------------------------------\n",
            "\n",
            "Column: Incident Reported at\n",
            "----------------------------------------\n",
            "Unique values: 1094\n",
            "Value counts:\n",
            " Incident Reported at\n",
            "2024-08-12 16:28:32    4\n",
            "2024-08-13 12:09:18    2\n",
            "2024-07-24 13:14:41    2\n",
            "2024-07-24 13:19:52    2\n",
            "2024-07-01 10:31:50    2\n",
            "                      ..\n",
            "2024-08-14 14:02:56    1\n",
            "2024-08-14 14:04:47    1\n",
            "2024-08-14 14:07:12    1\n",
            "2024-08-14 14:09:21    1\n",
            "2024-08-14 13:41:13    1\n",
            "Name: count, Length: 1094, dtype: int64\n",
            "\n",
            "Data type: datetime64[ns]\n",
            "\n",
            "Missing values: 0\n",
            "\n",
            "Date range: 2024-06-27 14:27:10 to 2024-09-24 11:49:23\n",
            "\n",
            "Inspecting Column: Action Taken By\n",
            "----------------------------------------\n",
            "\n",
            "Column: Action Taken By\n",
            "----------------------------------------\n",
            "Unique values: 115\n",
            "Value counts:\n",
            " Action Taken By\n",
            "NaN                 327\n",
            "Smt.Vani V Alva     165\n",
            "Keshava K            50\n",
            "Vasantha Poojary     27\n",
            "Leena Bitto          24\n",
            "                   ... \n",
            "Kashinatha            1\n",
            "Devaki                1\n",
            "Eo_Bantwal            1\n",
            "Pankaja               1\n",
            "Shrishail Donur       1\n",
            "Name: count, Length: 116, dtype: int64\n",
            "\n",
            "Data type: object\n",
            "\n",
            "Missing values: 327\n",
            "\n",
            "Max length: 26\n",
            "Sample values:\n",
            " ['Tulasi P' 'Sudhakar D' 'Poornima. J' 'Narayana B' 'Santhosh Patil']\n",
            "\n",
            "Inspecting Column: Action Date/Time\n",
            "----------------------------------------\n",
            "\n",
            "Column: Action Date/Time\n",
            "----------------------------------------\n",
            "Unique values: 809\n",
            "Value counts:\n",
            " Action Date/Time\n",
            "NaN                    305\n",
            "2024-08-09 16:03:03      3\n",
            "2024-08-21 15:44:25      2\n",
            "2024-08-12 15:41:54      2\n",
            "2024-08-02 15:36:34      1\n",
            "                      ... \n",
            "2024-08-13 13:25:09      1\n",
            "2024-08-13 13:02:47      1\n",
            "2024-08-13 12:55:25      1\n",
            "2024-08-13 12:44:57      1\n",
            "2024-08-13 15:31:16      1\n",
            "Name: count, Length: 810, dtype: int64\n",
            "\n",
            "Data type: object\n",
            "\n",
            "Missing values: 305\n",
            "\n",
            "Max length: 19\n",
            "Sample values:\n",
            " ['2024-08-12 16:34:14' '2024-08-12 15:31:37' '2024-08-12 14:32:44'\n",
            " '2024-08-12 13:38:03' '2024-08-12 10:56:37']\n",
            "\n",
            "Inspecting Column: Action Remarks\n",
            "----------------------------------------\n",
            "\n",
            "Column: Action Remarks\n",
            "----------------------------------------\n",
            "Unique values: 415\n",
            "Value counts:\n",
            " Action Remarks\n",
            "NaN                                                                                          452\n",
            "Attended                                                                                      26\n",
            "Land Slide                                                                                    24\n",
            "Kineta                                                                                        23\n",
            "Water logging                                                                                 20\n",
            "                                                                                            ... \n",
            "Road cut off                                                                                   1\n",
            "Reported higher officers, PRED engineer visited the place and reported to higher autority      1\n",
            "Reported to higher officials, road was cleared by panchayath.                                  1\n",
            "Visited the place and reported to revenue department. House damaged but no human loss.         1\n",
            "Accept                                                                                         1\n",
            "Name: count, Length: 416, dtype: int64\n",
            "\n",
            "Data type: object\n",
            "\n",
            "Missing values: 452\n",
            "\n",
            "Max length: 211\n",
            "Sample values:\n",
            " ['Visited to site'\n",
            " 'Due to heavy rain trees fallen across the Naravi Panal road it interrupted to the vehicle moving.'\n",
            " 'Attended and reported to hither officer '\n",
            " 'Kadabagilu bridge collapsed due to heavy rain.'\n",
            " 'Attended &informed to higher authority.']\n",
            "\n",
            "Inspecting Column: Time taken to take Action\n",
            "----------------------------------------\n",
            "\n",
            "Column: Time taken to take Action\n",
            "----------------------------------------\n",
            "Unique values: 461\n",
            "Value counts:\n",
            " Time taken to take Action\n",
            "NaN             305\n",
            "0h 0m 26s        10\n",
            "0h 0m 22s        10\n",
            "0h 0m 44s         9\n",
            "0h 0m 58s         9\n",
            "               ... \n",
            "0h 11m 48s        1\n",
            "1h 6m 8s          1\n",
            "0h 25m 54s        1\n",
            "0h 29m 57s        1\n",
            "116h 59m 43s      1\n",
            "Name: count, Length: 462, dtype: int64\n",
            "\n",
            "Data type: object\n",
            "\n",
            "Missing values: 305\n",
            "\n",
            "Max length: 12\n",
            "Sample values:\n",
            " ['0h 1m 35s' '0h 6m 53s' '0h 1m 19s' '0h 6m 6s' '0h 29m 57s']\n",
            "\n",
            "Inspecting Column: Closed By Officer\n",
            "----------------------------------------\n",
            "\n",
            "Column: Closed By Officer\n",
            "----------------------------------------\n",
            "Unique values: 84\n",
            "Value counts:\n",
            " Closed By Officer\n",
            "NaN                663\n",
            "Smt.Vani V Alva    149\n",
            "Mathadi             19\n",
            "Rajesh              14\n",
            "Sandhya Laxmi       14\n",
            "                  ... \n",
            "Eo_Bantwal           1\n",
            "Pankaja              1\n",
            "Sowmya M.S           1\n",
            "Subbaih K P          1\n",
            "Shrishail Donur      1\n",
            "Name: count, Length: 85, dtype: int64\n",
            "\n",
            "Data type: object\n",
            "\n",
            "Missing values: 663\n",
            "\n",
            "Max length: 26\n",
            "Sample values:\n",
            " ['Tulasi P' 'Sudhakar D' 'Poornima. J' 'Narayana B' 'Santhosh Patil']\n",
            "\n",
            "Inspecting Column: Closed At\n",
            "----------------------------------------\n",
            "\n",
            "Column: Closed At\n",
            "----------------------------------------\n",
            "Unique values: 475\n",
            "Value counts:\n",
            " Closed At\n",
            "NaN                    625\n",
            "2024-07-02 17:39:00     18\n",
            "2024-08-09 16:14:03      2\n",
            "2024-07-20 16:33:17      1\n",
            "2024-07-23 18:23:11      1\n",
            "                      ... \n",
            "2024-08-09 15:39:51      1\n",
            "2024-08-09 15:49:28      1\n",
            "2024-08-09 15:44:08      1\n",
            "2024-08-12 13:20:33      1\n",
            "2024-08-09 12:23:33      1\n",
            "Name: count, Length: 476, dtype: int64\n",
            "\n",
            "Data type: object\n",
            "\n",
            "Missing values: 625\n",
            "\n",
            "Max length: 19\n",
            "Sample values:\n",
            " ['2024-08-12 16:46:52' '2024-08-12 15:34:01' '2024-08-12 14:33:20'\n",
            " '2024-08-12 13:42:50' '2024-08-12 11:18:10']\n",
            "\n",
            "Inspecting Column: Closed Remarks\n",
            "----------------------------------------\n",
            "\n",
            "Column: Closed Remarks\n",
            "----------------------------------------\n",
            "Unique values: 289\n",
            "Value counts:\n",
            " Closed Remarks\n",
            "NaN                                                                    642\n",
            "The dangerous tree was cleared                                          19\n",
            "The sewage has been removed from the drainage                           17\n",
            "Artificial neighbors are torn apart in the event of a low rainfall.     10\n",
            "Cleared                                                                 10\n",
            "                                                                      ... \n",
            "Road closed banner kept in the entry of road                             1\n",
            "Necessary action Taken                                                   1\n",
            "Was arranged to tear smoothly through JCB                                1\n",
            "action has been taken                                                    1\n",
            "Fallen trees removed by machinary &manual labour.                        1\n",
            "Name: count, Length: 290, dtype: int64\n",
            "\n",
            "Data type: object\n",
            "\n",
            "Missing values: 642\n",
            "\n",
            "Max length: 184\n",
            "Sample values:\n",
            " ['The sludge is cleared by the panchayat'\n",
            " 'Fallen trees removed by machinary &manual labour.' 'Attended '\n",
            " 'Put barricade and  displayed road closed banner and asked to the citizens to use alternative nursery Alamba road'\n",
            " 'Temporary footbridge constructed &connectivity done']\n",
            "\n",
            "Inspecting Column: Time taken to Close\n",
            "----------------------------------------\n",
            "\n",
            "Column: Time taken to Close\n",
            "----------------------------------------\n",
            "Unique values: 414\n",
            "Value counts:\n",
            " Time taken to Close\n",
            "NaN            625\n",
            "0h 1m 9s         6\n",
            "0h 1m 49s        5\n",
            "0h 1m 20s        3\n",
            "0h 2m 58s        3\n",
            "              ... \n",
            "66h 45m 3s       1\n",
            "19h 35m 51s      1\n",
            "0h 24m 2s        1\n",
            "0h 4m 37s        1\n",
            "0h 9m 30s        1\n",
            "Name: count, Length: 415, dtype: int64\n",
            "\n",
            "Data type: object\n",
            "\n",
            "Missing values: 625\n",
            "\n",
            "Max length: 12\n",
            "Sample values:\n",
            " ['0h 14m 13s' '0h 9m 17s' '0h 1m 55s' '0h 10m 53s' '0h 51m 30s']\n",
            "\n",
            "Inspecting Column: Photo Before\n",
            "----------------------------------------\n",
            "\n",
            "Column: Photo Before\n",
            "----------------------------------------\n",
            "Unique values: 0\n",
            "Value counts:\n",
            " Photo Before\n",
            "NaN    1118\n",
            "Name: count, dtype: int64\n",
            "\n",
            "Data type: float64\n",
            "\n",
            "Missing values: 1118\n",
            "\n",
            "Describe:\n",
            " count    0.0\n",
            "mean     NaN\n",
            "std      NaN\n",
            "min      NaN\n",
            "25%      NaN\n",
            "50%      NaN\n",
            "75%      NaN\n",
            "max      NaN\n",
            "Name: Photo Before, dtype: float64\n",
            "\n",
            "Inspecting Column: Photo After\n",
            "----------------------------------------\n",
            "\n",
            "Column: Photo After\n",
            "----------------------------------------\n",
            "Unique values: 0\n",
            "Value counts:\n",
            " Photo After\n",
            "NaN    1118\n",
            "Name: count, dtype: int64\n",
            "\n",
            "Data type: float64\n",
            "\n",
            "Missing values: 1118\n",
            "\n",
            "Describe:\n",
            " count    0.0\n",
            "mean     NaN\n",
            "std      NaN\n",
            "min      NaN\n",
            "25%      NaN\n",
            "50%      NaN\n",
            "75%      NaN\n",
            "max      NaN\n",
            "Name: Photo After, dtype: float64\n",
            "\n",
            "Inspecting Column: Info_Source\n",
            "----------------------------------------\n",
            "\n",
            "Column: Info_Source\n",
            "----------------------------------------\n",
            "Unique values: 474\n",
            "Value counts:\n",
            " Info_Source\n",
            "PUBLIC                                             167\n",
            "PDO                                                 76\n",
            "SELF                                                41\n",
            "WARD CONCILLOR                                      30\n",
            "PDO ALADANGADY                                      20\n",
            "                                                  ... \n",
            "It is possible to take effect on the hill house      1\n",
            "LAXMANA GOWDA                                        1\n",
            "IBRAHIM                                              1\n",
            "RAMANANDA BHAT                                       1\n",
            "RAIN                                                 1\n",
            "Name: count, Length: 474, dtype: int64\n",
            "\n",
            "Data type: object\n",
            "\n",
            "Missing values: 0\n",
            "\n",
            "Max length: 101\n",
            "Sample values:\n",
            " ['PDO' 'MEMBER' 'PDO ALADANGADY' 'PDO NARAVI' 'PDO BALPA']\n",
            "\n",
            "Inspecting Column: Info_Phone\n",
            "----------------------------------------\n",
            "\n",
            "Column: Info_Phone\n",
            "----------------------------------------\n",
            "Unique values: 543\n",
            "Value counts:\n",
            " Info_Phone\n",
            "9480862248    43\n",
            "9482034605    22\n",
            "9480862200    19\n",
            "9449606483    18\n",
            "9449452255    16\n",
            "              ..\n",
            "7760189856     1\n",
            "9480147108     1\n",
            "8197590061     1\n",
            "9731683148     1\n",
            "9448152551     1\n",
            "Name: count, Length: 543, dtype: int64\n",
            "\n",
            "Data type: object\n",
            "\n",
            "Missing values: 0\n",
            "\n",
            "Max length: 10\n",
            "Sample values:\n",
            " ['9480862507' '9448152551' '9480862231' '9480862200' '9731683148']\n"
          ]
        }
      ]
    },
    {
      "cell_type": "code",
      "source": [],
      "metadata": {
        "id": "P1bYuyxMXD3u"
      },
      "execution_count": null,
      "outputs": []
    }
  ]
}